{
 "cells": [
  {
   "cell_type": "code",
   "execution_count": 1,
   "metadata": {},
   "outputs": [],
   "source": [
    "import pandas as pd\n",
    "import numpy as np\n",
    "import matplotlib.pyplot as plt\n",
    "import mlflow\n",
    "import re\n",
    "import ast\n",
    "# from sklearn.feature_selection import VarianceThreshold\n",
    "from sklearn.pipeline import Pipeline\n",
    "from sklearn.model_selection import train_test_split"
   ]
  },
  {
   "cell_type": "code",
   "execution_count": 97,
   "metadata": {},
   "outputs": [],
   "source": [
    "# Load the artists data as a list type\n",
    "generic = lambda x: ast.literal_eval(x)\n",
    "conv = {'artists': generic}\n",
    "df = pd.read_csv(\"data.csv\", converters=conv)"
   ]
  },
  {
   "cell_type": "code",
   "execution_count": 75,
   "metadata": {},
   "outputs": [
    {
     "data": {
      "text/plain": [
       "(174389, 19)"
      ]
     },
     "execution_count": 75,
     "metadata": {},
     "output_type": "execute_result"
    }
   ],
   "source": [
    "df.shape"
   ]
  },
  {
   "cell_type": "code",
   "execution_count": 76,
   "metadata": {},
   "outputs": [],
   "source": [
    "features = df.columns.drop([\"id\", \"artists\", \"name\"])"
   ]
  },
  {
   "cell_type": "code",
   "execution_count": 77,
   "metadata": {},
   "outputs": [],
   "source": [
    "X_data, target = df[features], df[\"artists\"]"
   ]
  },
  {
   "cell_type": "code",
   "execution_count": 78,
   "metadata": {},
   "outputs": [
    {
     "data": {
      "text/html": [
       "<div>\n",
       "<style scoped>\n",
       "    .dataframe tbody tr th:only-of-type {\n",
       "        vertical-align: middle;\n",
       "    }\n",
       "\n",
       "    .dataframe tbody tr th {\n",
       "        vertical-align: top;\n",
       "    }\n",
       "\n",
       "    .dataframe thead th {\n",
       "        text-align: right;\n",
       "    }\n",
       "</style>\n",
       "<table border=\"1\" class=\"dataframe\">\n",
       "  <thead>\n",
       "    <tr style=\"text-align: right;\">\n",
       "      <th></th>\n",
       "      <th>acousticness</th>\n",
       "      <th>danceability</th>\n",
       "      <th>duration_ms</th>\n",
       "      <th>energy</th>\n",
       "      <th>explicit</th>\n",
       "      <th>instrumentalness</th>\n",
       "      <th>key</th>\n",
       "      <th>liveness</th>\n",
       "      <th>loudness</th>\n",
       "      <th>mode</th>\n",
       "      <th>popularity</th>\n",
       "      <th>release_date</th>\n",
       "      <th>speechiness</th>\n",
       "      <th>tempo</th>\n",
       "      <th>valence</th>\n",
       "      <th>year</th>\n",
       "    </tr>\n",
       "  </thead>\n",
       "  <tbody>\n",
       "    <tr>\n",
       "      <th>0</th>\n",
       "      <td>0.991000</td>\n",
       "      <td>0.598</td>\n",
       "      <td>168333</td>\n",
       "      <td>0.224</td>\n",
       "      <td>0</td>\n",
       "      <td>0.000522</td>\n",
       "      <td>5</td>\n",
       "      <td>0.3790</td>\n",
       "      <td>-12.628</td>\n",
       "      <td>0</td>\n",
       "      <td>12</td>\n",
       "      <td>1920</td>\n",
       "      <td>0.0936</td>\n",
       "      <td>149.976</td>\n",
       "      <td>0.6340</td>\n",
       "      <td>1920</td>\n",
       "    </tr>\n",
       "    <tr>\n",
       "      <th>1</th>\n",
       "      <td>0.643000</td>\n",
       "      <td>0.852</td>\n",
       "      <td>150200</td>\n",
       "      <td>0.517</td>\n",
       "      <td>0</td>\n",
       "      <td>0.026400</td>\n",
       "      <td>5</td>\n",
       "      <td>0.0809</td>\n",
       "      <td>-7.261</td>\n",
       "      <td>0</td>\n",
       "      <td>7</td>\n",
       "      <td>1920-01-05</td>\n",
       "      <td>0.0534</td>\n",
       "      <td>86.889</td>\n",
       "      <td>0.9500</td>\n",
       "      <td>1920</td>\n",
       "    </tr>\n",
       "    <tr>\n",
       "      <th>2</th>\n",
       "      <td>0.993000</td>\n",
       "      <td>0.647</td>\n",
       "      <td>163827</td>\n",
       "      <td>0.186</td>\n",
       "      <td>0</td>\n",
       "      <td>0.000018</td>\n",
       "      <td>0</td>\n",
       "      <td>0.5190</td>\n",
       "      <td>-12.098</td>\n",
       "      <td>1</td>\n",
       "      <td>4</td>\n",
       "      <td>1920</td>\n",
       "      <td>0.1740</td>\n",
       "      <td>97.600</td>\n",
       "      <td>0.6890</td>\n",
       "      <td>1920</td>\n",
       "    </tr>\n",
       "    <tr>\n",
       "      <th>3</th>\n",
       "      <td>0.000173</td>\n",
       "      <td>0.730</td>\n",
       "      <td>422087</td>\n",
       "      <td>0.798</td>\n",
       "      <td>0</td>\n",
       "      <td>0.801000</td>\n",
       "      <td>2</td>\n",
       "      <td>0.1280</td>\n",
       "      <td>-7.311</td>\n",
       "      <td>1</td>\n",
       "      <td>17</td>\n",
       "      <td>1920-01-01</td>\n",
       "      <td>0.0425</td>\n",
       "      <td>127.997</td>\n",
       "      <td>0.0422</td>\n",
       "      <td>1920</td>\n",
       "    </tr>\n",
       "    <tr>\n",
       "      <th>4</th>\n",
       "      <td>0.295000</td>\n",
       "      <td>0.704</td>\n",
       "      <td>165224</td>\n",
       "      <td>0.707</td>\n",
       "      <td>1</td>\n",
       "      <td>0.000246</td>\n",
       "      <td>10</td>\n",
       "      <td>0.4020</td>\n",
       "      <td>-6.036</td>\n",
       "      <td>0</td>\n",
       "      <td>2</td>\n",
       "      <td>1920-10-01</td>\n",
       "      <td>0.0768</td>\n",
       "      <td>122.076</td>\n",
       "      <td>0.2990</td>\n",
       "      <td>1920</td>\n",
       "    </tr>\n",
       "  </tbody>\n",
       "</table>\n",
       "</div>"
      ],
      "text/plain": [
       "   acousticness  danceability  duration_ms  energy  explicit  \\\n",
       "0      0.991000         0.598       168333   0.224         0   \n",
       "1      0.643000         0.852       150200   0.517         0   \n",
       "2      0.993000         0.647       163827   0.186         0   \n",
       "3      0.000173         0.730       422087   0.798         0   \n",
       "4      0.295000         0.704       165224   0.707         1   \n",
       "\n",
       "   instrumentalness  key  liveness  loudness  mode  popularity release_date  \\\n",
       "0          0.000522    5    0.3790   -12.628     0          12         1920   \n",
       "1          0.026400    5    0.0809    -7.261     0           7   1920-01-05   \n",
       "2          0.000018    0    0.5190   -12.098     1           4         1920   \n",
       "3          0.801000    2    0.1280    -7.311     1          17   1920-01-01   \n",
       "4          0.000246   10    0.4020    -6.036     0           2   1920-10-01   \n",
       "\n",
       "   speechiness    tempo  valence  year  \n",
       "0       0.0936  149.976   0.6340  1920  \n",
       "1       0.0534   86.889   0.9500  1920  \n",
       "2       0.1740   97.600   0.6890  1920  \n",
       "3       0.0425  127.997   0.0422  1920  \n",
       "4       0.0768  122.076   0.2990  1920  "
      ]
     },
     "execution_count": 78,
     "metadata": {},
     "output_type": "execute_result"
    }
   ],
   "source": [
    "X_data.head()"
   ]
  },
  {
   "cell_type": "code",
   "execution_count": 79,
   "metadata": {},
   "outputs": [],
   "source": [
    "X_train, X_test, y_train, y_test = train_test_split(X_data, target, test_size=0.2, random_state=1)"
   ]
  },
  {
   "cell_type": "markdown",
   "metadata": {},
   "source": [
    "## Missing values"
   ]
  },
  {
   "cell_type": "code",
   "execution_count": 80,
   "metadata": {},
   "outputs": [
    {
     "data": {
      "text/plain": [
       "acousticness        0\n",
       "artists             0\n",
       "danceability        0\n",
       "duration_ms         0\n",
       "energy              0\n",
       "explicit            0\n",
       "id                  0\n",
       "instrumentalness    0\n",
       "key                 0\n",
       "liveness            0\n",
       "loudness            0\n",
       "mode                0\n",
       "name                0\n",
       "popularity          0\n",
       "release_date        0\n",
       "speechiness         0\n",
       "tempo               0\n",
       "valence             0\n",
       "year                0\n",
       "dtype: int64"
      ]
     },
     "execution_count": 80,
     "metadata": {},
     "output_type": "execute_result"
    }
   ],
   "source": [
    "df.isnull().sum()"
   ]
  },
  {
   "cell_type": "markdown",
   "metadata": {},
   "source": [
    "## Variable types"
   ]
  },
  {
   "cell_type": "code",
   "execution_count": 81,
   "metadata": {},
   "outputs": [
    {
     "data": {
      "text/plain": [
       "acousticness        float64\n",
       "artists              object\n",
       "danceability        float64\n",
       "duration_ms           int64\n",
       "energy              float64\n",
       "explicit              int64\n",
       "id                   object\n",
       "instrumentalness    float64\n",
       "key                   int64\n",
       "liveness            float64\n",
       "loudness            float64\n",
       "mode                  int64\n",
       "name                 object\n",
       "popularity            int64\n",
       "release_date         object\n",
       "speechiness         float64\n",
       "tempo               float64\n",
       "valence             float64\n",
       "year                  int64\n",
       "dtype: object"
      ]
     },
     "execution_count": 81,
     "metadata": {},
     "output_type": "execute_result"
    }
   ],
   "source": [
    "df.dtypes"
   ]
  },
  {
   "cell_type": "markdown",
   "metadata": {},
   "source": [
    "## Output space exploratory analysis (distribution of the register over the classes)"
   ]
  },
  {
   "cell_type": "code",
   "execution_count": 82,
   "metadata": {},
   "outputs": [],
   "source": [
    "artists_by_register_count = df[\"artists\"].apply(lambda x: len(x))"
   ]
  },
  {
   "cell_type": "code",
   "execution_count": 83,
   "metadata": {},
   "outputs": [
    {
     "name": "stdout",
     "output_type": "stream",
     "text": [
      "Maximum number of artists on a single register: 28\n"
     ]
    }
   ],
   "source": [
    "print(\"Maximum number of artists on a single register: {}\".format(artists_by_register_count.max()))"
   ]
  },
  {
   "cell_type": "code",
   "execution_count": 84,
   "metadata": {},
   "outputs": [
    {
     "data": {
      "text/plain": [
       "['Peter Moon Band',\n",
       " 'Nathan Aweau',\n",
       " 'Peter Moon',\n",
       " 'Pauline Wilson',\n",
       " 'Danny Kaleikini',\n",
       " 'Dennis Pavao',\n",
       " 'Kahala Moon',\n",
       " 'Allan Thomas',\n",
       " 'Teresa Bright',\n",
       " 'Gabby Pahinui',\n",
       " 'Darlene Ahuna',\n",
       " 'Ken Emerson',\n",
       " 'Joe Recca',\n",
       " 'The Sunday Manoa',\n",
       " 'Robert Cazimero',\n",
       " 'Roland Cazimero',\n",
       " 'Lorna Lim',\n",
       " 'Kohala',\n",
       " 'Jay Larrin',\n",
       " 'Country Comfort',\n",
       " 'George Helm',\n",
       " 'Melveen Leed',\n",
       " 'Buddy Fo',\n",
       " 'The Invitations',\n",
       " 'Robi Kahakalau',\n",
       " 'Charles Michael Brotman',\n",
       " 'Moe Keale',\n",
       " '2004 Hawaii Music Awards Compilation Of The Year']"
      ]
     },
     "execution_count": 84,
     "metadata": {},
     "output_type": "execute_result"
    }
   ],
   "source": [
    "df[\"artists\"].iloc[np.argmax(artists_by_register_count)]"
   ]
  },
  {
   "cell_type": "code",
   "execution_count": 85,
   "metadata": {},
   "outputs": [
    {
     "data": {
      "text/plain": [
       "0                        [Mamie Smith]\n",
       "1              [Screamin' Jay Hawkins]\n",
       "2                        [Mamie Smith]\n",
       "3                    [Oscar Velazquez]\n",
       "4                               [Mixe]\n",
       "                      ...             \n",
       "174384    [DJ Combo, Sander-7, Tony T]\n",
       "174385                  [Alessia Cara]\n",
       "174386                     [Roger Fly]\n",
       "174387                  [Taylor Swift]\n",
       "174388                     [Roger Fly]\n",
       "Name: artists, Length: 174389, dtype: object"
      ]
     },
     "execution_count": 85,
     "metadata": {},
     "output_type": "execute_result"
    }
   ],
   "source": [
    "df[\"artists\"]"
   ]
  },
  {
   "cell_type": "code",
   "execution_count": 86,
   "metadata": {},
   "outputs": [],
   "source": [
    "# Get all posible values\n",
    "def to_1D(series):\n",
    "    return pd.Series([x for _list in series for x in _list])"
   ]
  },
  {
   "cell_type": "code",
   "execution_count": 87,
   "metadata": {},
   "outputs": [],
   "source": [
    "artist_count = to_1D(target).value_counts()"
   ]
  },
  {
   "cell_type": "code",
   "execution_count": 88,
   "metadata": {},
   "outputs": [
    {
     "data": {
      "image/png": "[encoded data removed]",
      "text/plain": [
       "<Figure size 1008x288 with 1 Axes>"
      ]
     },
     "metadata": {
      "needs_background": "light"
     },
     "output_type": "display_data"
    }
   ],
   "source": [
    "fig, ax = plt.subplots(figsize = (14,4))\n",
    "ax.bar(artist_count.iloc[0:20].index,\n",
    "        artist_count.iloc[0:20].values)\n",
    "\n",
    "ax.set_ylabel(\"Frequency\", size = 12)\n",
    "ax.set_title(\"Artists aparitions\", size = 14)\n",
    "ax.grid(True)\n",
    "plt.xticks(rotation=45)\n",
    "plt.show()"
   ]
  },
  {
   "cell_type": "markdown",
   "metadata": {},
   "source": [
    "#### Some of the artists are novelists, so we can infer that in their case are audiobooks fragments"
   ]
  },
  {
   "cell_type": "code",
   "execution_count": 89,
   "metadata": {},
   "outputs": [
    {
     "data": {
      "image/png": "[encoded data removed]",
      "text/plain": [
       "<Figure size 432x288 with 1 Axes>"
      ]
     },
     "metadata": {
      "needs_background": "light"
     },
     "output_type": "display_data"
    }
   ],
   "source": [
    "fig, ax = plt.subplots()\n",
    "ax.set_title('Basic Plot')\n",
    "ax.boxplot(artist_count)\n",
    "ax.grid(True)\n",
    "plt.show()"
   ]
  },
  {
   "cell_type": "code",
   "execution_count": 90,
   "metadata": {},
   "outputs": [
    {
     "data": {
      "text/plain": [
       "count    32540.000000\n",
       "mean         7.202581\n",
       "std         31.239301\n",
       "min          1.000000\n",
       "25%          1.000000\n",
       "50%          2.000000\n",
       "75%          4.000000\n",
       "max       2228.000000\n",
       "dtype: float64"
      ]
     },
     "execution_count": 90,
     "metadata": {},
     "output_type": "execute_result"
    }
   ],
   "source": [
    "artist_count.describe()"
   ]
  },
  {
   "cell_type": "code",
   "execution_count": 91,
   "metadata": {},
   "outputs": [
    {
     "name": "stdout",
     "output_type": "stream",
     "text": [
      "Proportion of classes with only one sample: 0.4804240934234788\n"
     ]
    }
   ],
   "source": [
    "print(\"Proportion of classes with only one sample: {}\".format((artist_count==1).sum() / len(artist_count)))"
   ]
  },
  {
   "cell_type": "code",
   "execution_count": 92,
   "metadata": {},
   "outputs": [
    {
     "data": {
      "text/plain": [
       "6.0"
      ]
     },
     "execution_count": 92,
     "metadata": {},
     "output_type": "execute_result"
    }
   ],
   "source": [
    "artist_count.quantile(q=0.8)"
   ]
  },
  {
   "cell_type": "code",
   "execution_count": 93,
   "metadata": {},
   "outputs": [
    {
     "data": {
      "text/plain": [
       "0.4804240934234788"
      ]
     },
     "execution_count": 93,
     "metadata": {},
     "output_type": "execute_result"
    }
   ],
   "source": [
    "(artist_count<2).sum() / len(artist_count)"
   ]
  },
  {
   "cell_type": "code",
   "execution_count": 94,
   "metadata": {},
   "outputs": [
    {
     "data": {
      "text/plain": [
       "0.8212661339889367"
      ]
     },
     "execution_count": 94,
     "metadata": {},
     "output_type": "execute_result"
    }
   ],
   "source": [
    "(artist_count<=6).sum() / len(artist_count)"
   ]
  },
  {
   "cell_type": "markdown",
   "metadata": {},
   "source": [
    "#### 48% of the classes have only one sample on the dataset and around 80% have less than 6 samples."
   ]
  },
  {
   "cell_type": "code",
   "execution_count": 95,
   "metadata": {},
   "outputs": [
    {
     "data": {
      "text/plain": [
       "Francisco Canaro              2228\n",
       "Tadeusz Dolega Mostowicz      1281\n",
       "Эрнест Хемингуэй              1175\n",
       "Эрих Мария Ремарк             1062\n",
       "Frédéric Chopin               1013\n",
       "                              ... \n",
       "Paula Malone                     1\n",
       "lildeath                         1\n",
       "ØDYSSEE                          1\n",
       "Steven Seagal                    1\n",
       "Moura Andrade e Andrezinho       1\n",
       "Length: 32540, dtype: int64"
      ]
     },
     "execution_count": 95,
     "metadata": {},
     "output_type": "execute_result"
    }
   ],
   "source": [
    "artist_count"
   ]
  },
  {
   "cell_type": "markdown",
   "metadata": {},
   "source": [
    "## Feature Engineering"
   ]
  },
  {
   "cell_type": "markdown",
   "metadata": {},
   "source": [
    "### Datetime manipulation (release date)"
   ]
  },
  {
   "cell_type": "markdown",
   "metadata": {},
   "source": [
    "How many samples have a the month and day of the month in it?"
   ]
  },
  {
   "cell_type": "code",
   "execution_count": 107,
   "metadata": {},
   "outputs": [
    {
     "data": {
      "text/plain": [
       "array([0.70858827, 0.29141173])"
      ]
     },
     "execution_count": 107,
     "metadata": {},
     "output_type": "execute_result"
    }
   ],
   "source": [
    "(X_data[\"release_date\"].str.split(\"-\").apply(lambda x: len(x)) > 1).value_counts().values / len(X_data)"
   ]
  },
  {
   "cell_type": "markdown",
   "metadata": {},
   "source": [
    "Approx 30% percent of data don't have them, so, let's not add them to the dataset."
   ]
  },
  {
   "cell_type": "code",
   "execution_count": 113,
   "metadata": {},
   "outputs": [],
   "source": [
    "X_data.drop(columns=\"release_date\", inplace=True)"
   ]
  },
  {
   "cell_type": "code",
   "execution_count": 115,
   "metadata": {},
   "outputs": [
    {
     "data": {
      "text/plain": [
       "(174389, 15)"
      ]
     },
     "execution_count": 115,
     "metadata": {},
     "output_type": "execute_result"
    }
   ],
   "source": [
    "X_data.shape"
   ]
  },
  {
   "cell_type": "markdown",
   "metadata": {},
   "source": [
    "## Encoding of the classes (artists) for multilabel classification"
   ]
  },
  {
   "cell_type": "markdown",
   "metadata": {},
   "source": [
    "There are repeated labels?"
   ]
  },
  {
   "cell_type": "code",
   "execution_count": 138,
   "metadata": {},
   "outputs": [
    {
     "data": {
      "text/plain": [
       "32540"
      ]
     },
     "execution_count": 138,
     "metadata": {},
     "output_type": "execute_result"
    }
   ],
   "source": [
    "artist_count.index.nunique()"
   ]
  },
  {
   "cell_type": "code",
   "execution_count": 136,
   "metadata": {},
   "outputs": [
    {
     "data": {
      "text/plain": [
       "32515"
      ]
     },
     "execution_count": 136,
     "metadata": {},
     "output_type": "execute_result"
    }
   ],
   "source": [
    "artist_count.index.str.lower().nunique()"
   ]
  },
  {
   "cell_type": "markdown",
   "metadata": {},
   "source": [
    "25 repeated artists names"
   ]
  },
  {
   "cell_type": "code",
   "execution_count": 165,
   "metadata": {},
   "outputs": [],
   "source": [
    "duplicated_artists = artist_count[artist_count.index.str.lower().duplicated()]"
   ]
  },
  {
   "cell_type": "code",
   "execution_count": 162,
   "metadata": {},
   "outputs": [
    {
     "data": {
      "text/plain": [
       "Francisco Canaro              2228\n",
       "Tadeusz Dolega Mostowicz      1281\n",
       "Эрнест Хемингуэй              1175\n",
       "Эрих Мария Ремарк             1062\n",
       "Frédéric Chopin               1013\n",
       "                              ... \n",
       "Paula Malone                     1\n",
       "lildeath                         1\n",
       "ØDYSSEE                          1\n",
       "Steven Seagal                    1\n",
       "Moura Andrade e Andrezinho       1\n",
       "Length: 32540, dtype: int64"
      ]
     },
     "execution_count": 162,
     "metadata": {},
     "output_type": "execute_result"
    }
   ],
   "source": [
    "artist_count"
   ]
  },
  {
   "cell_type": "code",
   "execution_count": 148,
   "metadata": {},
   "outputs": [],
   "source": [
    "artists_count_non_dup = artist_count.index.str.lower().unique()"
   ]
  },
  {
   "cell_type": "markdown",
   "metadata": {},
   "source": [
    "Are there artists with their names on different languages?\n",
    "\n",
    "For example, эрнест хемингуэй is ernest hemingway"
   ]
  },
  {
   "cell_type": "code",
   "execution_count": 240,
   "metadata": {},
   "outputs": [
    {
     "data": {
      "text/plain": [
       "Index(['francisco canaro', 'tadeusz dolega mostowicz', 'эрнест хемингуэй',\n",
       "       'эрих мария ремарк', 'frédéric chopin', 'johann sebastian bach',\n",
       "       'wolfgang amadeus mozart', 'ludwig van beethoven', 'frank sinatra',\n",
       "       'wiener philharmoniker', 'georgette heyer', 'billie holiday',\n",
       "       'igor stravinsky', 'ignacio corsini', 'giuseppe verdi',\n",
       "       'vladimir horowitz', 'arturo toscanini', 'new york philharmonic',\n",
       "       'ella fitzgerald', 'johnny cash', 'lata mangeshkar', 'elvis presley',\n",
       "       'miles davis', 'bob dylan', 'charlo', 'the rolling stones',\n",
       "       'fleetwood mac', 'the beach boys', 'leonard bernstein', 'dean martin'],\n",
       "      dtype='object')"
      ]
     },
     "execution_count": 240,
     "metadata": {},
     "output_type": "execute_result"
    }
   ],
   "source": [
    "artists_count_non_dup[0:30]"
   ]
  },
  {
   "cell_type": "code",
   "execution_count": 154,
   "metadata": {},
   "outputs": [
    {
     "data": {
      "text/plain": [
       "Index(['ernesto fama', 'ernest ansermet', 'ernest bloch', 'ernest hemingway',\n",
       "       'ernesto bassignano', 'ernest tubb', 'ernest lush', 'ernest chausson',\n",
       "       'ernesto dominici', 'ernestine anderson', 'ernest macmillan',\n",
       "       'ernest ranglin', 'ernesto vs. bastian', 'ernesto bonino',\n",
       "       'ernesto decurtis', 'ernesto tagliaferri', 'ernest gold', 'ernest kohl',\n",
       "       'ernest lehman', 'ernesto de curtis', 'ernesto', 'ernesto nazareth',\n",
       "       'ernesto martins', 'ernesto lecuona', 'ernest truex', 'ernest moret',\n",
       "       'ernest ashworth'],\n",
       "      dtype='object')"
      ]
     },
     "execution_count": 154,
     "metadata": {},
     "output_type": "execute_result"
    }
   ],
   "source": [
    "artists_count_non_dup[artists_count_non_dup.str.startswith(\"ernest\")]"
   ]
  },
  {
   "cell_type": "code",
   "execution_count": 246,
   "metadata": {},
   "outputs": [
    {
     "data": {
      "text/plain": [
       "Index(['elvis presley'], dtype='object')"
      ]
     },
     "execution_count": 246,
     "metadata": {},
     "output_type": "execute_result"
    }
   ],
   "source": [
    "artists_count_non_dup[artists_count_non_dup.str.endswith(\"presley\")]"
   ]
  },
  {
   "cell_type": "markdown",
   "metadata": {},
   "source": [
    "Are there any very similar strings between them?"
   ]
  },
  {
   "cell_type": "markdown",
   "metadata": {},
   "source": [
    "- johnny nash, 'jonny nash'\n",
    "- "
   ]
  },
  {
   "cell_type": "code",
   "execution_count": 175,
   "metadata": {},
   "outputs": [],
   "source": [
    "import difflib"
   ]
  },
  {
   "cell_type": "code",
   "execution_count": 167,
   "metadata": {},
   "outputs": [],
   "source": [
    "artists_count_temp = artists_count_non_dup.str.normalize('NFKD').str.encode('ascii', errors='ignore').str.decode('utf-8')"
   ]
  },
  {
   "cell_type": "code",
   "execution_count": 212,
   "metadata": {},
   "outputs": [
    {
     "data": {
      "text/plain": [
       "Index(['francisco canaro', 'tadeusz dolega mostowicz', ' ', '  ',\n",
       "       'frederic chopin', 'johann sebastian bach', 'wolfgang amadeus mozart',\n",
       "       'ludwig van beethoven', 'frank sinatra', 'wiener philharmoniker',\n",
       "       'georgette heyer', 'billie holiday', 'igor stravinsky',\n",
       "       'ignacio corsini', 'giuseppe verdi', 'vladimir horowitz',\n",
       "       'arturo toscanini', 'new york philharmonic', 'ella fitzgerald',\n",
       "       'johnny cash'],\n",
       "      dtype='object')"
      ]
     },
     "execution_count": 212,
     "metadata": {},
     "output_type": "execute_result"
    }
   ],
   "source": [
    "artists_count_temp[0:20]"
   ]
  },
  {
   "cell_type": "code",
   "execution_count": 234,
   "metadata": {},
   "outputs": [],
   "source": [
    "str_sim = np.array([difflib.SequenceMatcher(None, \"wolfgang amadeus mozart\", x).ratio() for x in artists_count_temp])"
   ]
  },
  {
   "cell_type": "code",
   "execution_count": 235,
   "metadata": {},
   "outputs": [
    {
     "data": {
      "text/plain": [
       "array([], shape=(0, 1), dtype=int64)"
      ]
     },
     "execution_count": 235,
     "metadata": {},
     "output_type": "execute_result"
    }
   ],
   "source": [
    "index = np.argwhere(str_sim > 0.8)\n",
    "index"
   ]
  },
  {
   "cell_type": "markdown",
   "metadata": {},
   "source": [
    "Are there artists that does not separe by comma? like / or others?"
   ]
  },
  {
   "cell_type": "code",
   "execution_count": 254,
   "metadata": {},
   "outputs": [],
   "source": [
    "regex = \"[a-z]/[A-Z]\""
   ]
  },
  {
   "cell_type": "code",
   "execution_count": 287,
   "metadata": {},
   "outputs": [],
   "source": [
    "index_filter = target.astype(str).str.contains(regex, regex=True)"
   ]
  },
  {
   "cell_type": "code",
   "execution_count": 288,
   "metadata": {},
   "outputs": [
    {
     "data": {
      "text/plain": [
       "0         False\n",
       "1         False\n",
       "2         False\n",
       "3         False\n",
       "4         False\n",
       "          ...  \n",
       "174384    False\n",
       "174385    False\n",
       "174386    False\n",
       "174387    False\n",
       "174388    False\n",
       "Name: artists, Length: 174389, dtype: bool"
      ]
     },
     "execution_count": 288,
     "metadata": {},
     "output_type": "execute_result"
    }
   ],
   "source": [
    "index_filter"
   ]
  },
  {
   "cell_type": "code",
   "execution_count": 321,
   "metadata": {},
   "outputs": [],
   "source": [
    "def split_slash(x):\n",
    "    all_artists = []\n",
    "    for i in x:\n",
    "        all_artists = all_artists + i.split(\"/\")\n",
    "    return all_artists"
   ]
  },
  {
   "cell_type": "code",
   "execution_count": 323,
   "metadata": {},
   "outputs": [
    {
     "name": "stdout",
     "output_type": "stream",
     "text": [
      "['Gibson', 'Miller Band']\n",
      "['Longbranch', 'Pennywhistle']\n",
      "['Elsie Morison', 'Alexander Young', 'Michael Langdon', 'Beecham Choral Society', 'Royal Philharmonic Orchestra', 'Sir Thomas Beecham']\n",
      "['Au', 'Ra']\n",
      "['Anton Niessner', 'Philharmonia Orchestra', 'Otto Ackermann']\n",
      "['Carlo Pepoli', 'Aurora Cattelani', 'Coro del Teatro alla Scala, Milano', 'Orchestra del Teatro alla Scala, Milano', 'Tullio Serafin']\n",
      "['Emmy Loose', 'Nicolai Gedda', 'Philharmonia Orchestra', 'Otto Ackermann']\n",
      "['Gino Sarri', 'Tito Gobbi', 'Raffaele Arié', 'Coro del Maggio Musicale Fiorentino', 'Orchestra del Maggio Musicale Fiorentino', 'Tullio Serafin', 'Coro del Maggio Musicale Fiorentino', 'Gino Sarri', 'Orchestra del Maggio Musicale Fiorentino', 'Raffaele Arie']\n",
      "['Daniel Müller-Schott', 'Robert Kulek']\n",
      "['Geraint Jones', 'Nahum Tate', 'Kirsten Flagstad', 'Elisabeth Schwarzkopf', 'Eilidh McNab', 'Arda Mandikian', 'Sheila Rex', 'Anna Pollak', 'Thomas Hemsley', 'David Lloyd', 'Mermaid Singers', 'Mermaid Orchestra', 'Geraint Jones']\n",
      "['Geraint Jones', 'Nahum Tate', 'Kirsten Flagstad', 'Elisabeth Schwarzkopf', 'Eilidh McNab', 'Arda Mandikian', 'Sheila Rex', 'Anna Pollak', 'Thomas Hemsley', 'David Lloyd', 'Mermaid Singers', 'Mermaid Orchestra', 'Geraint Jones']\n",
      "['Geraint Jones', 'Nahum Tate', 'Kirsten Flagstad', 'Elisabeth Schwarzkopf', 'Eilidh McNab', 'Arda Mandikian', 'Sheila Rex', 'Anna Pollak', 'Thomas Hemsley', 'David Lloyd', 'Mermaid Singers', 'Mermaid Orchestra', 'Geraint Jones']\n",
      "['Astrid Varnay', 'Brünnhilde Friedland', 'Lieselotte Thomamüller', 'Elfriede Wild', 'Ruth Siewert', 'Eleanor Lausch', 'Hertha Töpper', 'Ira Malaniuk', 'Hanna Ludwig', 'Festspiel-Orchester Bayreuth ', 'Herbert von Karajan']\n",
      "['Erich Kunz', 'Irmgard Seefried', 'George London', 'Elisabeth Schwarzkopf', 'Sena Jurinac', 'Marjan Russ', 'Elisabeth Höngen', 'Erich Majkut', 'Rosl Schwaiger', 'Wilhelm Felden', 'Anny Felbermayer', 'Hilde Czeska', 'Chor der Wiener Staatsoper', 'Wiener Philharmoniker', 'Herbert von']\n",
      "['Emmy Loose', 'Nicolai Gedda', 'Philharmonia Orchestra', 'Otto Ackermann']\n",
      "['Elisabeth Schwarzkopf', 'Nicolai Gedda', 'Felix Kent', 'André von Mattoni', 'Philharmonia Orchestra', 'Otto Ackermann']\n",
      "['Nicolai Gedda', 'Emmy Loose', 'Philharmonia Orchestra', 'Otto Ackermann']\n",
      "['Roy Rogers', 'Dale Evans']\n",
      "['Anton Niessner', 'Emmy Loose', 'Nicolai Gedda', 'Philharmonia Orchestra', 'Otto Ackermann']\n",
      "['Anton Niessner', 'Emmy Loose', 'Philharmonia Orchestra', 'Otto Ackermann']\n",
      "['Emmy Loose', 'Philharmonia Orchestra', 'Otto Ackermann']\n",
      "['Nicolai Gedda', 'Otakar Kraus', 'Philharmonia Orchestra', 'Philharmonia Chorus', 'Otto Ackermann']\n",
      "['Alvaro Cordova', 'Orchestra del Teatro alla Scala, Milano', 'Victor de Sabata', 'Alvaro Cordova']\n",
      "['Lucia Danieli', 'Nicolai Gedda', 'Mario Borriello', 'Renato Ercolani', 'Orchestra del Teatro alla Scala, Milano', 'Herbert von Karajan', 'Lucie Danieli', 'Mario Borriello', 'Renato Ercolani']\n",
      "['Larsen', 'Feiten Band']\n",
      "['Catherine Mackintosh', 'Paul Goodwin', 'Timothy Brown', 'Susan Dent', 'Orchestra of the Age of Enlightenment', 'Orchestra of the Age of Enlightenment']\n",
      "['Elizabeth Wallfisch', 'Lisa Beznosiuk', 'Malcolm Proud', 'Orchestra of the Age of Enlightenment', 'Elizabeth Wallfisch', 'Orchestra of the Age of Enlightenment']\n",
      "['Geraint Jones', 'Nahum Tate', 'Kirsten Flagstad', 'Elisabeth Schwarzkopf', 'Eilidh McNab', 'Arda Mandikian', 'Sheila Rex', 'Anna Pollak', 'Thomas Hemsley', 'David Lloyd', 'Mermaid Singers', 'Mermaid Orchestra', 'Geraint Jones']\n",
      "['Geraint Jones', 'Nahum Tate', 'Kirsten Flagstad', 'Elisabeth Schwarzkopf', 'Eilidh McNab', 'Arda Mandikian', 'Sheila Rex', 'Anna Pollak', 'Thomas Hemsley', 'David Lloyd', 'Mermaid Singers', 'Mermaid Orchestra', 'Geraint Jones']\n",
      "['Geraint Jones', 'Nahum Tate', 'Kirsten Flagstad', 'Elisabeth Schwarzkopf', 'Eilidh McNab', 'Arda Mandikian', 'Sheila Rex', 'Anna Pollak', 'Thomas Hemsley', 'David Lloyd', 'Mermaid Singers', 'Mermaid Orchestra', 'Geraint Jones']\n",
      "['Geraint Jones', 'Nahum Tate', 'Kirsten Flagstad', 'Elisabeth Schwarzkopf', 'Eilidh McNab', 'Arda Mandikian', 'Sheila Rex', 'Anna Pollak', 'Thomas Hemsley', 'David Lloyd', 'Mermaid Singers', 'Mermaid Orchestra', 'Geraint Jones']\n",
      "['Geraint Jones', 'Nahum Tate', 'Kirsten Flagstad', 'Elisabeth Schwarzkopf', 'Eilidh McNab', 'Arda Mandikian', 'Sheila Rex', 'Anna Pollak', 'Thomas Hemsley', 'David Lloyd', 'Mermaid Singers', 'Mermaid Orchestra', 'Geraint Jones']\n",
      "['Astrid Varnay', 'Leonie Rysanek', 'Brünnhilde Friedland', 'Lieselotte Thomamüller', 'Elfriede Wild', 'Ruth Siewert', 'Eleanor Lausch', 'Hertha Töpper', 'Ira Malaniuk', 'Hanna Ludwig', 'Festspiel-Orchester Bayreuth ', 'Herbert von Karajan']\n",
      "['Astrid Varnay', 'Sigurd Björling', 'Festspiel-Orchester Bayreuth ', 'Herbert von Karajan']\n",
      "['Erich Kunz', 'Irmgard Seefried', 'George London', 'Elisabeth Schwarzkopf', 'Marjan Russ', 'Elisabeth Höngen', 'Erich Majkut', 'Wiener Philharmoniker', 'Herbert von Karajan']\n",
      "['Erich Kunz', 'Irmgard Seefried', 'Wiener Philharmoniker', 'Herbert von Karajan']\n",
      "['Chor der Wiener Staatsoper', 'Wiener Philharmoniker', 'Herbert von Karajan']\n",
      "['Emmy Loose', 'Nicolai Gedda', 'Philharmonia Chorus', 'Philharmonia Orchestra', 'Otto Ackermann']\n",
      "['Emmy Loose', 'Philharmonia Chorus', 'Philharmonia Orchestra', 'Otto Ackermann']\n",
      "['Anton Niessner', 'Erich Kunz', 'Philharmonia Chorus', 'Philharmonia Orchestra', 'Otto Ackermann']\n",
      "['Robert Massard', 'Choeurs René Duclos', \"Orchestre de l'Opéra National de Paris\", 'Georges Prêtre', \"Orchestre du Théâtre National de l'Opéra Paris\", \"Orchestre de l'Opéra National de Paris\", 'Paris Opera Orchestra']\n",
      "['Andréa Guiot', 'Claude Calès', 'Choeurs René Duclos', \"Orchestre de l'Opéra National de Paris\", 'Georges Prêtre', \"Orchestre du Théâtre National de l'Opéra Paris\", \"Orchestre de l'Opéra National de Paris\", 'Paris Opera Orchestra']\n",
      "['Catherine Mackintosh', 'Paul Goodwin', 'Timothy Brown', 'Susan Dent', 'Orchestra of the Age of Enlightenment', 'Orchestra of the Age of Enlightenment']\n",
      "['Catherine Mackintosh', 'Paul Goodwin', 'Timothy Brown', 'Susan Dent', 'Orchestra of the Age of Enlightenment', 'Orchestra of the Age of Enlightenment']\n",
      "['Alan Walker', 'Au', 'Ra', 'Tomine Harket']\n",
      "['Geraint Jones', 'Nahum Tate', 'Kirsten Flagstad', 'Elisabeth Schwarzkopf', 'Eilidh McNab', 'Arda Mandikian', 'Sheila Rex', 'Anna Pollak', 'Thomas Hemsley', 'David Lloyd', 'Mermaid Singers', 'Mermaid Orchestra', 'Geraint Jones']\n",
      "['Kirsten Flagstad', 'Warwick Braithwaite', 'Philharmonia Orchestra', 'Warwick Braithwaite']\n",
      "['Geraint Jones', 'Nahum Tate', 'Kirsten Flagstad', 'Elisabeth Schwarzkopf', 'Eilidh McNab', 'Arda Mandikian', 'Sheila Rex', 'Anna Pollak', 'Thomas Hemsley', 'David Lloyd', 'Mermaid Singers', 'Mermaid Orchestra', 'Geraint Jones']\n",
      "['Astrid Varnay', 'Sigurd Björling', 'Festspiel-Orchester Bayreuth ', 'Herbert von Karajan']\n",
      "['Erich Kunz', 'Irmgard Seefried', 'George London', 'Elisabeth Schwarzkopf', 'Wilhelm Felden', 'Wiener Philharmoniker', 'Herbert von Karajan']\n",
      "['Anton Niessner', 'Emmy Loose', 'Nicolai Gedda', 'Philharmonia Orchestra', 'Otto Ackermann']\n",
      "['Elisabeth Schwarzkopf', 'Erich Kunz', 'Nicolai Gedda', 'Emmy Loose', 'Philharmonia Orchestra', 'Otto Ackermann']\n",
      "['Lucia Danieli', 'Nicolai Gedda', 'Mario Borriello', 'Orchestra del Teatro alla Scala, Milano', 'Herbert von Karajan', 'Lucie Danieli', 'Mario Borriello']\n",
      "['Roy Rogers', 'Dale Evans']\n",
      "['Catherine Mackintosh', 'Paul Goodwin', 'Timothy Brown', 'Susan Dent', 'Orchestra of the Age of Enlightenment', 'Orchestra of the Age of Enlightenment']\n",
      "['Geraint Jones', 'Nahum Tate', 'Kirsten Flagstad', 'Elisabeth Schwarzkopf', 'Eilidh McNab', 'Arda Mandikian', 'Sheila Rex', 'Anna Pollak', 'Thomas Hemsley', 'David Lloyd', 'Mermaid Singers', 'Mermaid Orchestra', 'Geraint Jones']\n",
      "['Chor der Wiener Staatsoper', 'Wiener Philharmoniker', 'Herbert von Karajan']\n",
      "['Erich Kunz', 'Irmgard Seefried', 'George London', 'Elisabeth Schwarzkopf', 'Anny Felbermayer', 'Hilde Czeska', 'Chor der Wiener Staatsoper', 'Wiener Philharmoniker', 'Herbert von Karajan']\n",
      "['George London', 'Wiener Philharmoniker', 'Herbert von Karajan']\n",
      "['Erich Kunz', 'Wiener Philharmoniker', 'Herbert von Karajan']\n",
      "['Erich Kunz', 'Philharmonia Orchestra', 'Otto Ackermann']\n",
      "['Lisa Otto', 'Sesto Bruscantini', 'Chorus', 'Philharmonia Orchestra', 'Herbert von Karajan']\n",
      "['Choeurs René Duclos', \"Choeurs d'Enfants Jean Pesneaud\", \"Orchestre de l'Opéra National de Paris\", 'Georges Prêtre', \"Orchestre du Théâtre National de l'Opéra Paris\", \"Orchestre de l'Opéra National de Paris\", 'Paris Opera Orchestra']\n",
      "[\"Djurgårdens IF's Kör\", 'Lars Bagges Orkester', 'Kisa Magnusson']\n",
      "['Elizabeth Wallfisch', 'Lisa Beznosiuk', 'Malcolm Proud', 'Orchestra of the Age of Enlightenment', 'Elizabeth Wallfisch', 'Orchestra of the Age of Enlightenment']\n",
      "['Elizabeth Wallfisch', 'Lisa Beznosiuk', 'Malcolm Proud', 'Orchestra of the Age of Enlightenment', 'Elizabeth Wallfisch', 'Orchestra of the Age of Enlightenment']\n",
      "['Love', 'Hate']\n",
      "['Cain', 'Abel']\n",
      "['Jax Jones', 'Au', 'Ra']\n",
      "['Geraint Jones', 'Nahum Tate', 'Kirsten Flagstad', 'Elisabeth Schwarzkopf', 'Eilidh McNab', 'Arda Mandikian', 'Sheila Rex', 'Anna Pollak', 'Thomas Hemsley', 'David Lloyd', 'Mermaid Singers', 'Mermaid Orchestra', 'Geraint Jones']\n",
      "['Geraint Jones', 'Nahum Tate', 'Kirsten Flagstad', 'Elisabeth Schwarzkopf', 'Eilidh McNab', 'Arda Mandikian', 'Sheila Rex', 'Anna Pollak', 'Thomas Hemsley', 'David Lloyd', 'Mermaid Singers', 'Mermaid Orchestra', 'Geraint Jones']\n",
      "['Geraint Jones', 'Nahum Tate', 'Kirsten Flagstad', 'Elisabeth Schwarzkopf', 'Eilidh McNab', 'Arda Mandikian', 'Sheila Rex', 'Anna Pollak', 'Thomas Hemsley', 'David Lloyd', 'Mermaid Singers', 'Mermaid Orchestra', 'Geraint Jones']\n",
      "['James MoodyQuintet', 'Auartet']\n",
      "['Dario Caselli', 'Giuseppe di Stefano', 'Orchestra del Teatro alla Scala, Milano', 'Victor de Sabata']\n",
      "['Emmy Loose', 'Nicolai Gedda', 'Philharmonia Chorus', 'Philharmonia Orchestra', 'Otto Ackermann']\n",
      "['Anton Niessner', 'Erich Kunz', 'Otakar Kraus', 'Josef Schmidinger', 'Philharmonia Orchestra', 'Otto Ackermann']\n",
      "['Gino Sarri', 'Tito Gobbi', 'Orchestra del Maggio Musicale Fiorentino', 'Tullio Serafin', 'Gino Sarri', 'Orchestra del Maggio Musicale Fiorentino']\n",
      "['Roy Rogers', 'Dale Evans']\n",
      "['Roy Rogers', 'Dale Evans']\n"
     ]
    },
    {
     "data": {
      "text/plain": [
       "3297                                  [Gibson, Miller Band]\n",
       "48145                            [Longbranch, Pennywhistle]\n",
       "55092     [Elsie Morison, Alexander Young, Michael Langd...\n",
       "57848                                              [Au, Ra]\n",
       "63102     [Anton Niessner, Philharmonia Orchestra, Otto ...\n",
       "                                ...                        \n",
       "160702    [Emmy Loose, Nicolai Gedda, Philharmonia Choru...\n",
       "160735    [Anton Niessner, Erich Kunz, Otakar Kraus, Jos...\n",
       "160778    [Gino Sarri, Tito Gobbi, Orchestra del Maggio ...\n",
       "163426                             [Roy Rogers, Dale Evans]\n",
       "163573                             [Roy Rogers, Dale Evans]\n",
       "Name: artists, Length: 79, dtype: object"
      ]
     },
     "execution_count": 323,
     "metadata": {},
     "output_type": "execute_result"
    }
   ],
   "source": [
    "target[index_filter].apply(lambda x: split_slash(x))"
   ]
  },
  {
   "cell_type": "code",
   "execution_count": 252,
   "metadata": {},
   "outputs": [
    {
     "data": {
      "text/plain": [
       "232               [Ermanno Wolf-Ferrari]\n",
       "270         [Darüttalim-i Musiki Heyeti]\n",
       "831       [Teddy Wilson & His All-Stars]\n",
       "847          [Jones-Smith, Incorporated]\n",
       "922             [The All-Star Orchestra]\n",
       "                       ...              \n",
       "174222              [DJ Combo, Sander-7]\n",
       "174286                     [Skili, Tc-5]\n",
       "174324       [DJ Combo, Sander-7, YA-YA]\n",
       "174380                [Stephan F, YA-YA]\n",
       "174384      [DJ Combo, Sander-7, Tony T]\n",
       "Name: artists, Length: 1620, dtype: object"
      ]
     },
     "execution_count": 252,
     "metadata": {},
     "output_type": "execute_result"
    }
   ],
   "source": [
    "target[target.astype(str).str.contains(\"-\")]"
   ]
  },
  {
   "cell_type": "code",
   "execution_count": 120,
   "metadata": {},
   "outputs": [],
   "source": [
    "target_copy = target.copy()"
   ]
  },
  {
   "cell_type": "code",
   "execution_count": 121,
   "metadata": {},
   "outputs": [],
   "source": [
    "def remove_element(artists_list, artist):\n",
    "    if len(artists_list) == 0:\n",
    "        return artists_list\n",
    "    try:\n",
    "        artists_list.remove(artist)\n",
    "    except ValueError:\n",
    "        pass\n",
    "    return artists_list"
   ]
  },
  {
   "cell_type": "code",
   "execution_count": 130,
   "metadata": {},
   "outputs": [
    {
     "name": "stdout",
     "output_type": "stream",
     "text": [
      "CPU times: user 5min 11s, sys: 816 ms, total: 5min 12s\n",
      "Wall time: 5min 13s\n"
     ]
    }
   ],
   "source": [
    "%%time\n",
    "sample_artists =  artist_count.index[0:2000]\n",
    "codified_participations = []\n",
    "for i, artist in enumerate(sample_artists):\n",
    "    # Encode the variable\n",
    "    temp = target_copy.apply(lambda x: artist in x).astype(int)\n",
    "    # Remove viewed artists from every list\n",
    "    target_copy.apply(lambda x: remove_element(x, artist))\n",
    "    # Append the codified column\n",
    "    codified_participations.append(temp)"
   ]
  },
  {
   "cell_type": "code",
   "execution_count": 123,
   "metadata": {},
   "outputs": [],
   "source": [
    "df_target = pd.concat(codified_participations, axis=1, keys=sample_artists)"
   ]
  },
  {
   "cell_type": "markdown",
   "metadata": {},
   "source": [
    "## Feature selection"
   ]
  },
  {
   "cell_type": "markdown",
   "metadata": {},
   "source": [
    "__Pipeline of feature selection:__\n",
    "\n",
    "- Remove __quasi-constant features__ (features with variance less than certain threshold, both categorical and numerical)\n",
    "- Remove __duplicated features__ (features with the same values)\n",
    "- Remove __highly correlated__ features among themselves (keep features highly correlated with the target yet uncorrelated among them). This helps too to prevent misleading coeficients of importance when trees ensembling models are fitted.\n",
    "    - Hypothesis: speechiness and instrumentalness, loudness and energy are correlated\n",
    "- Remove other non-discriminative features using Embedded methods (leveraging the use of tree emsenble methods like random forest) and Wrapper methods (forward and backward)"
   ]
  },
  {
   "cell_type": "code",
   "execution_count": 116,
   "metadata": {},
   "outputs": [],
   "source": [
    "import seaborn as sns"
   ]
  },
  {
   "cell_type": "markdown",
   "metadata": {},
   "source": [
    "Pearson correlation coeficient (lineal relationship)"
   ]
  },
  {
   "cell_type": "code",
   "execution_count": 239,
   "metadata": {},
   "outputs": [
    {
     "data": {
      "image/png": "[encoded data removed]",
      "text/plain": [
       "<Figure size 864x864 with 2 Axes>"
      ]
     },
     "metadata": {
      "needs_background": "light"
     },
     "output_type": "display_data"
    }
   ],
   "source": [
    "corrmat = X_data.corr(method=\"pearson\")\n",
    "fig, ax = plt.subplots()\n",
    "fig.set_size_inches(12, 12)\n",
    "sns.heatmap(corrmat, annot = True)\n",
    "plt.show()"
   ]
  },
  {
   "cell_type": "markdown",
   "metadata": {},
   "source": [
    "Some variables as expected are highly correlated like: \n",
    "\n",
    "- loudness and energy __(0.779267)__\n",
    "- acousticness and energy __(-0.750852)__\n",
    "- year and acousticness __(-0.607515)__ "
   ]
  },
  {
   "cell_type": "markdown",
   "metadata": {},
   "source": [
    "__Methods for eliminate highly correlated features__\n",
    "\n",
    "__Brute force__: Determine correlation between a selected feature and every other. If the feature is highly correlated, drop it. __Problem__: This can lead to eliminate better features.\n",
    "\n",
    "__Grouping__:\n",
    "\n",
    "    1. Identify groups of correlated features.\n",
    "    2. Select the feature with higher predictive power (train a ml model on each group and select the best feature, or keep the feature with the less number of missing values)\n",
    "    3. Discard the rest"
   ]
  },
  {
   "cell_type": "code",
   "execution_count": 119,
   "metadata": {},
   "outputs": [],
   "source": [
    "from feature_engine.selection import DropCorrelatedFeatures, SmartCorrelatedSelection\n",
    "from sklearn.ensemble import RandomForestClassifier\n",
    "from sklearn.multioutput import MultiOutputClassifier"
   ]
  },
  {
   "cell_type": "code",
   "execution_count": 56,
   "metadata": {},
   "outputs": [],
   "source": [
    "# Values for the feature selection\n",
    "constant_feat_tolerance = 0.92\n",
    "correlation_threshold = 0.75\n",
    "correlation_method = \"pearson\"\n",
    "\n",
    "correlation_forest_random_state = 1\n",
    "correlation_forest_jobs = 4\n",
    "correlation_forest_cv = 2 # \n",
    "correlation_metric = \"roc_auc\" # optimization metric"
   ]
  },
  {
   "cell_type": "code",
   "execution_count": 57,
   "metadata": {},
   "outputs": [],
   "source": [
    "correlation_forest = RandomForestClassifier(\n",
    "    random_state=correlation_forest_random_state,\n",
    "    n_jobs=correlation_forest_jobs\n",
    ")"
   ]
  },
  {
   "cell_type": "code",
   "execution_count": 58,
   "metadata": {},
   "outputs": [],
   "source": [
    "correlation_classifier = MultiOutputClassifier(correlation_forest, n_jobs=-1)"
   ]
  },
  {
   "cell_type": "code",
   "execution_count": 59,
   "metadata": {},
   "outputs": [],
   "source": [
    "# Group based\n",
    "\n",
    "correlation_approach = SmartCorrelatedSelection(\n",
    "    method=correlation_method,\n",
    "    threshold=correlation_threshold,\n",
    "    selection_method=\"model_performance\",\n",
    "    missing_values=\"raise\",\n",
    "    estimator=correlation_classifier,\n",
    "    scoring=correlation_metric,\n",
    "    cv=correlation_forest_cv\n",
    ")\n",
    "\n",
    "# Brute Force\n",
    "\n",
    "# correlation_approach = DropCorrelatedFeatures(\n",
    "#     threshold=correlation_threshold,\n",
    "#     method=correlation_method,\n",
    "#     missing_values=\"ignore\"\n",
    "# )"
   ]
  },
  {
   "cell_type": "code",
   "execution_count": 60,
   "metadata": {},
   "outputs": [],
   "source": [
    "feat_sel_pipeline = Pipeline([\n",
    "    (\"quasi-constant\", DropConstantFeatures(tol=constant_feat_tolerance)),\n",
    "    (\"duplicated\", DropDuplicateFeatures()),\n",
    "    (\"correlation\", correlation_approach)\n",
    "])"
   ]
  },
  {
   "cell_type": "code",
   "execution_count": 61,
   "metadata": {},
   "outputs": [
    {
     "ename": "ValueError",
     "evalue": "You appear to be using a legacy multi-label data representation. Sequence of sequences are no longer supported; use a binary array or sparse matrix instead - the MultiLabelBinarizer transformer can convert to this format.",
     "output_type": "error",
     "traceback": [
      "\u001b[0;31m---------------------------------------------------------------------------\u001b[0m",
      "\u001b[0;31mValueError\u001b[0m                                Traceback (most recent call last)",
      "\u001b[0;32m<ipython-input-61-db72f204003d>\u001b[0m in \u001b[0;36m<module>\u001b[0;34m\u001b[0m\n\u001b[0;32m----> 1\u001b[0;31m \u001b[0mfeat_sel_pipeline\u001b[0m\u001b[0;34m.\u001b[0m\u001b[0mfit\u001b[0m\u001b[0;34m(\u001b[0m\u001b[0mX_train\u001b[0m\u001b[0;34m,\u001b[0m \u001b[0my_train\u001b[0m\u001b[0;34m)\u001b[0m\u001b[0;34m\u001b[0m\u001b[0;34m\u001b[0m\u001b[0m\n\u001b[0m",
      "\u001b[0;32m/usr/local/lib/python3.7/site-packages/sklearn/pipeline.py\u001b[0m in \u001b[0;36mfit\u001b[0;34m(self, X, y, **fit_params)\u001b[0m\n\u001b[1;32m    344\u001b[0m             \u001b[0;32mif\u001b[0m \u001b[0mself\u001b[0m\u001b[0;34m.\u001b[0m\u001b[0m_final_estimator\u001b[0m \u001b[0;34m!=\u001b[0m \u001b[0;34m'passthrough'\u001b[0m\u001b[0;34m:\u001b[0m\u001b[0;34m\u001b[0m\u001b[0;34m\u001b[0m\u001b[0m\n\u001b[1;32m    345\u001b[0m                 \u001b[0mfit_params_last_step\u001b[0m \u001b[0;34m=\u001b[0m \u001b[0mfit_params_steps\u001b[0m\u001b[0;34m[\u001b[0m\u001b[0mself\u001b[0m\u001b[0;34m.\u001b[0m\u001b[0msteps\u001b[0m\u001b[0;34m[\u001b[0m\u001b[0;34m-\u001b[0m\u001b[0;36m1\u001b[0m\u001b[0;34m]\u001b[0m\u001b[0;34m[\u001b[0m\u001b[0;36m0\u001b[0m\u001b[0;34m]\u001b[0m\u001b[0;34m]\u001b[0m\u001b[0;34m\u001b[0m\u001b[0;34m\u001b[0m\u001b[0m\n\u001b[0;32m--> 346\u001b[0;31m                 \u001b[0mself\u001b[0m\u001b[0;34m.\u001b[0m\u001b[0m_final_estimator\u001b[0m\u001b[0;34m.\u001b[0m\u001b[0mfit\u001b[0m\u001b[0;34m(\u001b[0m\u001b[0mXt\u001b[0m\u001b[0;34m,\u001b[0m \u001b[0my\u001b[0m\u001b[0;34m,\u001b[0m \u001b[0;34m**\u001b[0m\u001b[0mfit_params_last_step\u001b[0m\u001b[0;34m)\u001b[0m\u001b[0;34m\u001b[0m\u001b[0;34m\u001b[0m\u001b[0m\n\u001b[0m\u001b[1;32m    347\u001b[0m \u001b[0;34m\u001b[0m\u001b[0m\n\u001b[1;32m    348\u001b[0m         \u001b[0;32mreturn\u001b[0m \u001b[0mself\u001b[0m\u001b[0;34m\u001b[0m\u001b[0;34m\u001b[0m\u001b[0m\n",
      "\u001b[0;32m/usr/local/lib/python3.7/site-packages/feature_engine/selection/smart_correlation_selection.py\u001b[0m in \u001b[0;36mfit\u001b[0;34m(self, X, y)\u001b[0m\n\u001b[1;32m    287\u001b[0m                         \u001b[0mcv\u001b[0m\u001b[0;34m=\u001b[0m\u001b[0mself\u001b[0m\u001b[0;34m.\u001b[0m\u001b[0mcv\u001b[0m\u001b[0;34m,\u001b[0m\u001b[0;34m\u001b[0m\u001b[0;34m\u001b[0m\u001b[0m\n\u001b[1;32m    288\u001b[0m                         \u001b[0mreturn_estimator\u001b[0m\u001b[0;34m=\u001b[0m\u001b[0;32mFalse\u001b[0m\u001b[0;34m,\u001b[0m\u001b[0;34m\u001b[0m\u001b[0;34m\u001b[0m\u001b[0m\n\u001b[0;32m--> 289\u001b[0;31m                         \u001b[0mscoring\u001b[0m\u001b[0;34m=\u001b[0m\u001b[0mself\u001b[0m\u001b[0;34m.\u001b[0m\u001b[0mscoring\u001b[0m\u001b[0;34m,\u001b[0m\u001b[0;34m\u001b[0m\u001b[0;34m\u001b[0m\u001b[0m\n\u001b[0m\u001b[1;32m    290\u001b[0m                     )\n\u001b[1;32m    291\u001b[0m \u001b[0;34m\u001b[0m\u001b[0m\n",
      "\u001b[0;32m/usr/local/lib/python3.7/site-packages/sklearn/utils/validation.py\u001b[0m in \u001b[0;36minner_f\u001b[0;34m(*args, **kwargs)\u001b[0m\n\u001b[1;32m     61\u001b[0m             \u001b[0mextra_args\u001b[0m \u001b[0;34m=\u001b[0m \u001b[0mlen\u001b[0m\u001b[0;34m(\u001b[0m\u001b[0margs\u001b[0m\u001b[0;34m)\u001b[0m \u001b[0;34m-\u001b[0m \u001b[0mlen\u001b[0m\u001b[0;34m(\u001b[0m\u001b[0mall_args\u001b[0m\u001b[0;34m)\u001b[0m\u001b[0;34m\u001b[0m\u001b[0;34m\u001b[0m\u001b[0m\n\u001b[1;32m     62\u001b[0m             \u001b[0;32mif\u001b[0m \u001b[0mextra_args\u001b[0m \u001b[0;34m<=\u001b[0m \u001b[0;36m0\u001b[0m\u001b[0;34m:\u001b[0m\u001b[0;34m\u001b[0m\u001b[0;34m\u001b[0m\u001b[0m\n\u001b[0;32m---> 63\u001b[0;31m                 \u001b[0;32mreturn\u001b[0m \u001b[0mf\u001b[0m\u001b[0;34m(\u001b[0m\u001b[0;34m*\u001b[0m\u001b[0margs\u001b[0m\u001b[0;34m,\u001b[0m \u001b[0;34m**\u001b[0m\u001b[0mkwargs\u001b[0m\u001b[0;34m)\u001b[0m\u001b[0;34m\u001b[0m\u001b[0;34m\u001b[0m\u001b[0m\n\u001b[0m\u001b[1;32m     64\u001b[0m \u001b[0;34m\u001b[0m\u001b[0m\n\u001b[1;32m     65\u001b[0m             \u001b[0;31m# extra_args > 0\u001b[0m\u001b[0;34m\u001b[0m\u001b[0;34m\u001b[0m\u001b[0;34m\u001b[0m\u001b[0m\n",
      "\u001b[0;32m/usr/local/lib/python3.7/site-packages/sklearn/model_selection/_validation.py\u001b[0m in \u001b[0;36mcross_validate\u001b[0;34m(estimator, X, y, groups, scoring, cv, n_jobs, verbose, fit_params, pre_dispatch, return_train_score, return_estimator, error_score)\u001b[0m\n\u001b[1;32m    231\u001b[0m     \u001b[0mX\u001b[0m\u001b[0;34m,\u001b[0m \u001b[0my\u001b[0m\u001b[0;34m,\u001b[0m \u001b[0mgroups\u001b[0m \u001b[0;34m=\u001b[0m \u001b[0mindexable\u001b[0m\u001b[0;34m(\u001b[0m\u001b[0mX\u001b[0m\u001b[0;34m,\u001b[0m \u001b[0my\u001b[0m\u001b[0;34m,\u001b[0m \u001b[0mgroups\u001b[0m\u001b[0;34m)\u001b[0m\u001b[0;34m\u001b[0m\u001b[0;34m\u001b[0m\u001b[0m\n\u001b[1;32m    232\u001b[0m \u001b[0;34m\u001b[0m\u001b[0m\n\u001b[0;32m--> 233\u001b[0;31m     \u001b[0mcv\u001b[0m \u001b[0;34m=\u001b[0m \u001b[0mcheck_cv\u001b[0m\u001b[0;34m(\u001b[0m\u001b[0mcv\u001b[0m\u001b[0;34m,\u001b[0m \u001b[0my\u001b[0m\u001b[0;34m,\u001b[0m \u001b[0mclassifier\u001b[0m\u001b[0;34m=\u001b[0m\u001b[0mis_classifier\u001b[0m\u001b[0;34m(\u001b[0m\u001b[0mestimator\u001b[0m\u001b[0;34m)\u001b[0m\u001b[0;34m)\u001b[0m\u001b[0;34m\u001b[0m\u001b[0;34m\u001b[0m\u001b[0m\n\u001b[0m\u001b[1;32m    234\u001b[0m \u001b[0;34m\u001b[0m\u001b[0m\n\u001b[1;32m    235\u001b[0m     \u001b[0;32mif\u001b[0m \u001b[0mcallable\u001b[0m\u001b[0;34m(\u001b[0m\u001b[0mscoring\u001b[0m\u001b[0;34m)\u001b[0m\u001b[0;34m:\u001b[0m\u001b[0;34m\u001b[0m\u001b[0;34m\u001b[0m\u001b[0m\n",
      "\u001b[0;32m/usr/local/lib/python3.7/site-packages/sklearn/utils/validation.py\u001b[0m in \u001b[0;36minner_f\u001b[0;34m(*args, **kwargs)\u001b[0m\n\u001b[1;32m     61\u001b[0m             \u001b[0mextra_args\u001b[0m \u001b[0;34m=\u001b[0m \u001b[0mlen\u001b[0m\u001b[0;34m(\u001b[0m\u001b[0margs\u001b[0m\u001b[0;34m)\u001b[0m \u001b[0;34m-\u001b[0m \u001b[0mlen\u001b[0m\u001b[0;34m(\u001b[0m\u001b[0mall_args\u001b[0m\u001b[0;34m)\u001b[0m\u001b[0;34m\u001b[0m\u001b[0;34m\u001b[0m\u001b[0m\n\u001b[1;32m     62\u001b[0m             \u001b[0;32mif\u001b[0m \u001b[0mextra_args\u001b[0m \u001b[0;34m<=\u001b[0m \u001b[0;36m0\u001b[0m\u001b[0;34m:\u001b[0m\u001b[0;34m\u001b[0m\u001b[0;34m\u001b[0m\u001b[0m\n\u001b[0;32m---> 63\u001b[0;31m                 \u001b[0;32mreturn\u001b[0m \u001b[0mf\u001b[0m\u001b[0;34m(\u001b[0m\u001b[0;34m*\u001b[0m\u001b[0margs\u001b[0m\u001b[0;34m,\u001b[0m \u001b[0;34m**\u001b[0m\u001b[0mkwargs\u001b[0m\u001b[0;34m)\u001b[0m\u001b[0;34m\u001b[0m\u001b[0;34m\u001b[0m\u001b[0m\n\u001b[0m\u001b[1;32m     64\u001b[0m \u001b[0;34m\u001b[0m\u001b[0m\n\u001b[1;32m     65\u001b[0m             \u001b[0;31m# extra_args > 0\u001b[0m\u001b[0;34m\u001b[0m\u001b[0;34m\u001b[0m\u001b[0;34m\u001b[0m\u001b[0m\n",
      "\u001b[0;32m/usr/local/lib/python3.7/site-packages/sklearn/model_selection/_split.py\u001b[0m in \u001b[0;36mcheck_cv\u001b[0;34m(cv, y, classifier)\u001b[0m\n\u001b[1;32m   2059\u001b[0m     \u001b[0;32mif\u001b[0m \u001b[0misinstance\u001b[0m\u001b[0;34m(\u001b[0m\u001b[0mcv\u001b[0m\u001b[0;34m,\u001b[0m \u001b[0mnumbers\u001b[0m\u001b[0;34m.\u001b[0m\u001b[0mIntegral\u001b[0m\u001b[0;34m)\u001b[0m\u001b[0;34m:\u001b[0m\u001b[0;34m\u001b[0m\u001b[0;34m\u001b[0m\u001b[0m\n\u001b[1;32m   2060\u001b[0m         if (classifier and (y is not None) and\n\u001b[0;32m-> 2061\u001b[0;31m                 (type_of_target(y) in ('binary', 'multiclass'))):\n\u001b[0m\u001b[1;32m   2062\u001b[0m             \u001b[0;32mreturn\u001b[0m \u001b[0mStratifiedKFold\u001b[0m\u001b[0;34m(\u001b[0m\u001b[0mcv\u001b[0m\u001b[0;34m)\u001b[0m\u001b[0;34m\u001b[0m\u001b[0;34m\u001b[0m\u001b[0m\n\u001b[1;32m   2063\u001b[0m         \u001b[0;32melse\u001b[0m\u001b[0;34m:\u001b[0m\u001b[0;34m\u001b[0m\u001b[0;34m\u001b[0m\u001b[0m\n",
      "\u001b[0;32m/usr/local/lib/python3.7/site-packages/sklearn/utils/multiclass.py\u001b[0m in \u001b[0;36mtype_of_target\u001b[0;34m(y)\u001b[0m\n\u001b[1;32m    277\u001b[0m         if (not hasattr(y[0], '__array__') and isinstance(y[0], Sequence)\n\u001b[1;32m    278\u001b[0m                 and not isinstance(y[0], str)):\n\u001b[0;32m--> 279\u001b[0;31m             raise ValueError('You appear to be using a legacy multi-label data'\n\u001b[0m\u001b[1;32m    280\u001b[0m                              \u001b[0;34m' representation. Sequence of sequences are no'\u001b[0m\u001b[0;34m\u001b[0m\u001b[0;34m\u001b[0m\u001b[0m\n\u001b[1;32m    281\u001b[0m                              \u001b[0;34m' longer supported; use a binary array or sparse'\u001b[0m\u001b[0;34m\u001b[0m\u001b[0;34m\u001b[0m\u001b[0m\n",
      "\u001b[0;31mValueError\u001b[0m: You appear to be using a legacy multi-label data representation. Sequence of sequences are no longer supported; use a binary array or sparse matrix instead - the MultiLabelBinarizer transformer can convert to this format."
     ]
    }
   ],
   "source": [
    "feat_sel_pipeline.fit(X_train, y_train)"
   ]
  },
  {
   "cell_type": "code",
   "execution_count": 34,
   "metadata": {},
   "outputs": [
    {
     "data": {
      "text/plain": [
       "['explicit']"
      ]
     },
     "execution_count": 34,
     "metadata": {},
     "output_type": "execute_result"
    }
   ],
   "source": [
    "feat_sel_pipeline[0].features_to_drop_"
   ]
  },
  {
   "cell_type": "code",
   "execution_count": 35,
   "metadata": {},
   "outputs": [
    {
     "data": {
      "text/plain": [
       "set()"
      ]
     },
     "execution_count": 35,
     "metadata": {},
     "output_type": "execute_result"
    }
   ],
   "source": [
    "feat_sel_pipeline[1].features_to_drop_"
   ]
  },
  {
   "cell_type": "code",
   "execution_count": 36,
   "metadata": {},
   "outputs": [
    {
     "data": {
      "text/plain": [
       "[]"
      ]
     },
     "execution_count": 36,
     "metadata": {},
     "output_type": "execute_result"
    }
   ],
   "source": [
    "feat_sel_pipeline[2].features_to_drop_"
   ]
  },
  {
   "cell_type": "code",
   "execution_count": 37,
   "metadata": {},
   "outputs": [
    {
     "data": {
      "text/plain": [
       "[]"
      ]
     },
     "execution_count": 37,
     "metadata": {},
     "output_type": "execute_result"
    }
   ],
   "source": [
    "feat_sel_pipeline[2].correlated_feature_sets_"
   ]
  },
  {
   "cell_type": "code",
   "execution_count": 38,
   "metadata": {},
   "outputs": [
    {
     "data": {
      "text/plain": [
       "['__class__',\n",
       " '__delattr__',\n",
       " '__dict__',\n",
       " '__dir__',\n",
       " '__doc__',\n",
       " '__eq__',\n",
       " '__format__',\n",
       " '__ge__',\n",
       " '__getattribute__',\n",
       " '__getstate__',\n",
       " '__gt__',\n",
       " '__hash__',\n",
       " '__init__',\n",
       " '__init_subclass__',\n",
       " '__le__',\n",
       " '__lt__',\n",
       " '__module__',\n",
       " '__ne__',\n",
       " '__new__',\n",
       " '__reduce__',\n",
       " '__reduce_ex__',\n",
       " '__repr__',\n",
       " '__setattr__',\n",
       " '__setstate__',\n",
       " '__sizeof__',\n",
       " '__str__',\n",
       " '__subclasshook__',\n",
       " '__weakref__',\n",
       " '_check_n_features',\n",
       " '_get_param_names',\n",
       " '_get_tags',\n",
       " '_more_tags',\n",
       " '_repr_html_',\n",
       " '_repr_html_inner',\n",
       " '_repr_mimebundle_',\n",
       " '_validate_data',\n",
       " 'correlated_feature_sets_',\n",
       " 'cv',\n",
       " 'estimator',\n",
       " 'features_to_drop_',\n",
       " 'fit',\n",
       " 'fit_transform',\n",
       " 'get_params',\n",
       " 'input_shape_',\n",
       " 'method',\n",
       " 'missing_values',\n",
       " 'scoring',\n",
       " 'selection_method',\n",
       " 'set_params',\n",
       " 'threshold',\n",
       " 'transform',\n",
       " 'variables']"
      ]
     },
     "execution_count": 38,
     "metadata": {},
     "output_type": "execute_result"
    }
   ],
   "source": [
    "dir(feat_sel_pipeline[2])"
   ]
  },
  {
   "cell_type": "markdown",
   "metadata": {},
   "source": [
    "## Feature scaling (not needed for tree based methods)"
   ]
  },
  {
   "cell_type": "markdown",
   "metadata": {},
   "source": [
    "\n",
    "\n",
    "- acousticness (Ranges from 0 to 1)\n",
    "- danceability (Ranges from 0 to 1)\n",
    "- energy (Ranges from 0 to 1)\n",
    "- duration_ms (Integer typically ranging from 200k to 300k)\n",
    "- instrumentalness (Ranges from 0 to 1)\n",
    "- valence (Ranges from 0 to 1)\n",
    "- popularity (Ranges from 0 to 100)\n",
    "- tempo (Float typically ranging from 50 to 150)\n",
    "- liveness (Ranges from 0 to 1)\n",
    "- loudness (Float typically ranging from -60 to 0)\n",
    "- speechiness (Ranges from 0 to 1)\n",
    "- year (Ranges from 1921 to 2020)\n"
   ]
  },
  {
   "cell_type": "markdown",
   "metadata": {},
   "source": [
    "## Train a multilabel classifier (test)"
   ]
  },
  {
   "cell_type": "markdown",
   "metadata": {},
   "source": [
    "The current danuniqueset is highly imbalanced given that most of the samples correspond to unique classes (over 48% percent). Furthermore, there are a high dimensionality having 32540 classes.\n",
    "Widely speaking there are 2 Multilabel classification methods:\n",
    "\n",
    "- __Algorithm adaptation methods__\n",
    "\n",
    "Modify the algorithm to build decision trees or the entropy definition to consider various classes.\n",
    "\n",
    "- __Problem transformation methods:__ Convert the problem into a combination of binary classification or multiclass classification problems.\n",
    "    - __Simple:__ Ignore classes by frequency in each sample (keep the class with higher frequency)    \n",
    "    - __Binary Relevance__: Divide the dataset into different datasets with each one containing the instances of one specific label. Train n_classes classifiers with these datasets and merge the prediction to get the final result. __Problem__: This will produce datasets with 1 sample, insufucient to train any supervised learning model.\n",
    "\n",
    "    - __Label Powerset__: Treats every combination in the dataset as a single class (resulting with more classes in this case). __Problem__: This is more prior to imbalance problems, the number of classes in this approach increase with respect to multilabel classes (artist)\n",
    "\n",
    "    - __Pruned set__: Solves imbalanced class distribution by pruning instances that have frequency less that specific threshold.\n"
   ]
  },
  {
   "cell_type": "markdown",
   "metadata": {},
   "source": [
    "__Experiments__\n",
    "\n",
    "- Train as it is (don't remove any label)\n",
    "- Train using pruned set\n",
    "- Train using pruned set plus some imbalanced handling tecniques (undersampling high frequency classes and oversampling low frequency)\n",
    "\n",
    "__With all use:__\n",
    "\n",
    "- Random Forest\n",
    "- XGBoost\n",
    "- Feed Forward Neural Network (MLP)"
   ]
  },
  {
   "cell_type": "code",
   "execution_count": 90,
   "metadata": {},
   "outputs": [],
   "source": [
    "from xgboost import XGBClassifier\n",
    "from sklearn.ensemble import RandomForestClassifier\n",
    "from sklearn.multioutput import MultiOutputClassifier\n",
    "from sklearn.model_selection import train_test_split\n",
    "from sklearn.preprocessing import StandardScaler"
   ]
  },
  {
   "cell_type": "code",
   "execution_count": 28,
   "metadata": {},
   "outputs": [],
   "source": [
    "#mlflow.sklearn.autolog()"
   ]
  },
  {
   "cell_type": "code",
   "execution_count": 15,
   "metadata": {},
   "outputs": [],
   "source": [
    "features = [\"acousticness\", \"danceability\", \"energy\", \"explicit\"]"
   ]
  },
  {
   "cell_type": "code",
   "execution_count": 70,
   "metadata": {},
   "outputs": [],
   "source": [
    "df_test = df.copy()"
   ]
  },
  {
   "cell_type": "code",
   "execution_count": 71,
   "metadata": {},
   "outputs": [],
   "source": [
    "X_data, target = df_test[features], df_test[\"artists\"]"
   ]
  },
  {
   "cell_type": "code",
   "execution_count": 77,
   "metadata": {},
   "outputs": [
    {
     "data": {
      "text/plain": [
       "0         0\n",
       "1         0\n",
       "2         0\n",
       "3         0\n",
       "4         0\n",
       "         ..\n",
       "174384    0\n",
       "174385    0\n",
       "174386    0\n",
       "174387    0\n",
       "174388    0\n",
       "Name: artists, Length: 174389, dtype: int64"
      ]
     },
     "execution_count": 77,
     "metadata": {},
     "output_type": "execute_result"
    }
   ],
   "source": [
    "df_test[\"artists\"].apply(lambda x: artist in x).astype(int)"
   ]
  },
  {
   "cell_type": "code",
   "execution_count": 78,
   "metadata": {},
   "outputs": [
    {
     "data": {
      "text/plain": [
       "Index(['Francisco Canaro', 'Tadeusz Dolega Mostowicz', 'Эрнест Хемингуэй',\n",
       "       'Эрих Мария Ремарк', 'Frédéric Chopin', 'Johann Sebastian Bach',\n",
       "       'Wolfgang Amadeus Mozart', 'Ludwig van Beethoven', 'Frank Sinatra',\n",
       "       'Wiener Philharmoniker',\n",
       "       ...\n",
       "       'Kevin Sharp', 'Leonard Pennario', 'Angela Bassett', 'Clifford David',\n",
       "       'Purity Ring', 'Veronica Lake', 'Lissie', 'Αθανάσιος Μακεδόνας',\n",
       "       'Sheila On 7', 'Moxas'],\n",
       "      dtype='object', length=32540)"
      ]
     },
     "execution_count": 78,
     "metadata": {},
     "output_type": "execute_result"
    }
   ],
   "source": [
    " artist_count.index"
   ]
  },
  {
   "cell_type": "code",
   "execution_count": 79,
   "metadata": {},
   "outputs": [],
   "source": [
    "target_copy = target.copy()"
   ]
  },
  {
   "cell_type": "code",
   "execution_count": 81,
   "metadata": {},
   "outputs": [],
   "source": [
    "def remove_element(artists_list, artist):\n",
    "    try:\n",
    "        artists_list.remove(artist)\n",
    "    except ValueError:\n",
    "        pass\n",
    "    return artists_list"
   ]
  },
  {
   "cell_type": "code",
   "execution_count": 136,
   "metadata": {},
   "outputs": [
    {
     "name": "stdout",
     "output_type": "stream",
     "text": [
      "CPU times: user 37.5 s, sys: 124 ms, total: 37.6 s\n",
      "Wall time: 37.8 s\n"
     ]
    }
   ],
   "source": [
    "%%time\n",
    "artists_reviewed = []\n",
    "sample_artists =  artist_count.index[0:200]\n",
    "codified_participations = []\n",
    "for artist in sample_artists:\n",
    "    temp = target_copy.apply(lambda x: artist in x).astype(int)\n",
    "    # Remove viewed artists from the every list\n",
    "    target_copy.apply(lambda x: remove_element(x, artist))\n",
    "    # Append the codified column\n",
    "    codified_participations.append(temp)"
   ]
  },
  {
   "cell_type": "code",
   "execution_count": 90,
   "metadata": {},
   "outputs": [],
   "source": [
    "df_target = pd.concat(codified_participations, axis=1, keys=sample_artists)"
   ]
  },
  {
   "cell_type": "markdown",
   "metadata": {},
   "source": [
    "## Splitting the dataset"
   ]
  },
  {
   "cell_type": "code",
   "execution_count": 104,
   "metadata": {},
   "outputs": [],
   "source": [
    "X_train, X_test, y_train, y_test = train_test_split(X_data, df_target, test_size=0.2, random_state=1)"
   ]
  },
  {
   "cell_type": "code",
   "execution_count": 105,
   "metadata": {},
   "outputs": [
    {
     "data": {
      "text/plain": [
       "((139511, 4), (34878, 4))"
      ]
     },
     "execution_count": 105,
     "metadata": {},
     "output_type": "execute_result"
    }
   ],
   "source": [
    "X_train.shape, X_test.shape"
   ]
  },
  {
   "cell_type": "markdown",
   "metadata": {},
   "source": [
    "## Scaling variables"
   ]
  },
  {
   "cell_type": "code",
   "execution_count": 106,
   "metadata": {},
   "outputs": [
    {
     "data": {
      "text/plain": [
       "StandardScaler()"
      ]
     },
     "execution_count": 106,
     "metadata": {},
     "output_type": "execute_result"
    }
   ],
   "source": [
    "scaler = StandardScaler()\n",
    "scaler.fit(X_train)"
   ]
  },
  {
   "cell_type": "markdown",
   "metadata": {},
   "source": [
    "## Train a classifier"
   ]
  },
  {
   "cell_type": "code",
   "execution_count": 65,
   "metadata": {},
   "outputs": [],
   "source": [
    "# def fetch_logged_data(run_id):\n",
    "#     client = mlflow.tracking.MlflowClient()\n",
    "#     data = client.get_run(run_id).data\n",
    "#     tags = {k: v for k, v in data.tags.items() if not k.startswith(\"mlflow.\")}\n",
    "#     artifacts = [f.path for f in client.list_artifacts(run_id, \"model\")]\n",
    "#     return data.params, data.metrics, tags, artifacts"
   ]
  },
  {
   "cell_type": "code",
   "execution_count": 107,
   "metadata": {},
   "outputs": [],
   "source": [
    "# Scale train and test data\n",
    "X_train = scaler.transform(X_train)\n",
    "X_test = scaler.transform(X_test)"
   ]
  },
  {
   "cell_type": "code",
   "execution_count": 109,
   "metadata": {},
   "outputs": [],
   "source": [
    "forest = RandomForestClassifier(random_state=1)\n",
    "multi_target_forest = MultiOutputClassifier(forest, n_jobs=-1)"
   ]
  },
  {
   "cell_type": "code",
   "execution_count": 113,
   "metadata": {},
   "outputs": [
    {
     "data": {
      "text/plain": [
       "MultiOutputClassifier(estimator=RandomForestClassifier(random_state=1),\n",
       "                      n_jobs=-1)"
      ]
     },
     "execution_count": 113,
     "metadata": {},
     "output_type": "execute_result"
    }
   ],
   "source": [
    "multi_target_forest.fit(X_train, y_train)"
   ]
  },
  {
   "cell_type": "code",
   "execution_count": 114,
   "metadata": {},
   "outputs": [
    {
     "data": {
      "text/plain": [
       "0.9476747519926602"
      ]
     },
     "execution_count": 114,
     "metadata": {},
     "output_type": "execute_result"
    }
   ],
   "source": [
    "multi_target_forest.score(X_test, y_test)"
   ]
  },
  {
   "cell_type": "code",
   "execution_count": 122,
   "metadata": {},
   "outputs": [
    {
     "data": {
      "text/plain": [
       "array([ 1.07715341, -1.84539509, -1.59556931, -0.27068222])"
      ]
     },
     "execution_count": 122,
     "metadata": {},
     "output_type": "execute_result"
    }
   ],
   "source": [
    "X_test[0]"
   ]
  },
  {
   "cell_type": "code",
   "execution_count": 130,
   "metadata": {},
   "outputs": [
    {
     "data": {
      "text/plain": [
       "[array([[1., 0.]]),\n",
       " array([[1., 0.]]),\n",
       " array([[1., 0.]]),\n",
       " array([[1., 0.]]),\n",
       " array([[1., 0.]]),\n",
       " array([[0.91, 0.09]]),\n",
       " array([[1., 0.]]),\n",
       " array([[0.92, 0.08]]),\n",
       " array([[0.99, 0.01]]),\n",
       " array([[1., 0.]])]"
      ]
     },
     "execution_count": 130,
     "metadata": {},
     "output_type": "execute_result"
    }
   ],
   "source": [
    "multi_target_forest.predict_proba(X_test[0].reshape(1, -1))"
   ]
  }
 ],
 "metadata": {
  "kernelspec": {
   "display_name": "Python 3",
   "language": "python",
   "name": "python3"
  },
  "language_info": {
   "codemirror_mode": {
    "name": "ipython",
    "version": 3
   },
   "file_extension": ".py",
   "mimetype": "text/x-python",
   "name": "python",
   "nbconvert_exporter": "python",
   "pygments_lexer": "ipython3",
   "version": "3.7.10"
  }
 },
 "nbformat": 4,
 "nbformat_minor": 4
}
