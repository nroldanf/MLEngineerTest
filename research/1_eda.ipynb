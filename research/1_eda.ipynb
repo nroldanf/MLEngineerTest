{
 "cells": [
  {
   "cell_type": "code",
   "execution_count": 1,
   "metadata": {},
   "outputs": [],
   "source": [
    "import pandas as pd\n",
    "import numpy as np\n",
    "import matplotlib.pyplot as plt\n",
    "import mlflow\n",
    "import re\n",
    "import ast\n",
    "# from sklearn.feature_selection import VarianceThreshold\n",
    "from sklearn.pipeline import Pipeline\n",
    "from sklearn.model_selection import train_test_split"
   ]
  },
  {
   "cell_type": "code",
   "execution_count": 2,
   "metadata": {},
   "outputs": [],
   "source": [
    "# Load the artists data as a list type\n",
    "generic = lambda x: ast.literal_eval(x)\n",
    "conv = {'artists': generic}\n",
    "df = pd.read_csv(\"data.csv\", converters=conv)"
   ]
  },
  {
   "cell_type": "code",
   "execution_count": 3,
   "metadata": {},
   "outputs": [
    {
     "data": {
      "text/plain": [
       "(174389, 19)"
      ]
     },
     "execution_count": 3,
     "metadata": {},
     "output_type": "execute_result"
    }
   ],
   "source": [
    "df.shape"
   ]
  },
  {
   "cell_type": "code",
   "execution_count": 4,
   "metadata": {},
   "outputs": [],
   "source": [
    "features = df.columns.drop([\"id\", \"artists\", \"name\"])"
   ]
  },
  {
   "cell_type": "code",
   "execution_count": 5,
   "metadata": {},
   "outputs": [],
   "source": [
    "X_data, target = df[features], df[\"artists\"]"
   ]
  },
  {
   "cell_type": "code",
   "execution_count": 6,
   "metadata": {},
   "outputs": [
    {
     "data": {
      "text/html": [
       "<div>\n",
       "<style scoped>\n",
       "    .dataframe tbody tr th:only-of-type {\n",
       "        vertical-align: middle;\n",
       "    }\n",
       "\n",
       "    .dataframe tbody tr th {\n",
       "        vertical-align: top;\n",
       "    }\n",
       "\n",
       "    .dataframe thead th {\n",
       "        text-align: right;\n",
       "    }\n",
       "</style>\n",
       "<table border=\"1\" class=\"dataframe\">\n",
       "  <thead>\n",
       "    <tr style=\"text-align: right;\">\n",
       "      <th></th>\n",
       "      <th>acousticness</th>\n",
       "      <th>danceability</th>\n",
       "      <th>duration_ms</th>\n",
       "      <th>energy</th>\n",
       "      <th>explicit</th>\n",
       "      <th>instrumentalness</th>\n",
       "      <th>key</th>\n",
       "      <th>liveness</th>\n",
       "      <th>loudness</th>\n",
       "      <th>mode</th>\n",
       "      <th>popularity</th>\n",
       "      <th>release_date</th>\n",
       "      <th>speechiness</th>\n",
       "      <th>tempo</th>\n",
       "      <th>valence</th>\n",
       "      <th>year</th>\n",
       "    </tr>\n",
       "  </thead>\n",
       "  <tbody>\n",
       "    <tr>\n",
       "      <th>0</th>\n",
       "      <td>0.991000</td>\n",
       "      <td>0.598</td>\n",
       "      <td>168333</td>\n",
       "      <td>0.224</td>\n",
       "      <td>0</td>\n",
       "      <td>0.000522</td>\n",
       "      <td>5</td>\n",
       "      <td>0.3790</td>\n",
       "      <td>-12.628</td>\n",
       "      <td>0</td>\n",
       "      <td>12</td>\n",
       "      <td>1920</td>\n",
       "      <td>0.0936</td>\n",
       "      <td>149.976</td>\n",
       "      <td>0.6340</td>\n",
       "      <td>1920</td>\n",
       "    </tr>\n",
       "    <tr>\n",
       "      <th>1</th>\n",
       "      <td>0.643000</td>\n",
       "      <td>0.852</td>\n",
       "      <td>150200</td>\n",
       "      <td>0.517</td>\n",
       "      <td>0</td>\n",
       "      <td>0.026400</td>\n",
       "      <td>5</td>\n",
       "      <td>0.0809</td>\n",
       "      <td>-7.261</td>\n",
       "      <td>0</td>\n",
       "      <td>7</td>\n",
       "      <td>1920-01-05</td>\n",
       "      <td>0.0534</td>\n",
       "      <td>86.889</td>\n",
       "      <td>0.9500</td>\n",
       "      <td>1920</td>\n",
       "    </tr>\n",
       "    <tr>\n",
       "      <th>2</th>\n",
       "      <td>0.993000</td>\n",
       "      <td>0.647</td>\n",
       "      <td>163827</td>\n",
       "      <td>0.186</td>\n",
       "      <td>0</td>\n",
       "      <td>0.000018</td>\n",
       "      <td>0</td>\n",
       "      <td>0.5190</td>\n",
       "      <td>-12.098</td>\n",
       "      <td>1</td>\n",
       "      <td>4</td>\n",
       "      <td>1920</td>\n",
       "      <td>0.1740</td>\n",
       "      <td>97.600</td>\n",
       "      <td>0.6890</td>\n",
       "      <td>1920</td>\n",
       "    </tr>\n",
       "    <tr>\n",
       "      <th>3</th>\n",
       "      <td>0.000173</td>\n",
       "      <td>0.730</td>\n",
       "      <td>422087</td>\n",
       "      <td>0.798</td>\n",
       "      <td>0</td>\n",
       "      <td>0.801000</td>\n",
       "      <td>2</td>\n",
       "      <td>0.1280</td>\n",
       "      <td>-7.311</td>\n",
       "      <td>1</td>\n",
       "      <td>17</td>\n",
       "      <td>1920-01-01</td>\n",
       "      <td>0.0425</td>\n",
       "      <td>127.997</td>\n",
       "      <td>0.0422</td>\n",
       "      <td>1920</td>\n",
       "    </tr>\n",
       "    <tr>\n",
       "      <th>4</th>\n",
       "      <td>0.295000</td>\n",
       "      <td>0.704</td>\n",
       "      <td>165224</td>\n",
       "      <td>0.707</td>\n",
       "      <td>1</td>\n",
       "      <td>0.000246</td>\n",
       "      <td>10</td>\n",
       "      <td>0.4020</td>\n",
       "      <td>-6.036</td>\n",
       "      <td>0</td>\n",
       "      <td>2</td>\n",
       "      <td>1920-10-01</td>\n",
       "      <td>0.0768</td>\n",
       "      <td>122.076</td>\n",
       "      <td>0.2990</td>\n",
       "      <td>1920</td>\n",
       "    </tr>\n",
       "  </tbody>\n",
       "</table>\n",
       "</div>"
      ],
      "text/plain": [
       "   acousticness  danceability  duration_ms  energy  explicit  \\\n",
       "0      0.991000         0.598       168333   0.224         0   \n",
       "1      0.643000         0.852       150200   0.517         0   \n",
       "2      0.993000         0.647       163827   0.186         0   \n",
       "3      0.000173         0.730       422087   0.798         0   \n",
       "4      0.295000         0.704       165224   0.707         1   \n",
       "\n",
       "   instrumentalness  key  liveness  loudness  mode  popularity release_date  \\\n",
       "0          0.000522    5    0.3790   -12.628     0          12         1920   \n",
       "1          0.026400    5    0.0809    -7.261     0           7   1920-01-05   \n",
       "2          0.000018    0    0.5190   -12.098     1           4         1920   \n",
       "3          0.801000    2    0.1280    -7.311     1          17   1920-01-01   \n",
       "4          0.000246   10    0.4020    -6.036     0           2   1920-10-01   \n",
       "\n",
       "   speechiness    tempo  valence  year  \n",
       "0       0.0936  149.976   0.6340  1920  \n",
       "1       0.0534   86.889   0.9500  1920  \n",
       "2       0.1740   97.600   0.6890  1920  \n",
       "3       0.0425  127.997   0.0422  1920  \n",
       "4       0.0768  122.076   0.2990  1920  "
      ]
     },
     "execution_count": 6,
     "metadata": {},
     "output_type": "execute_result"
    }
   ],
   "source": [
    "X_data.head()"
   ]
  },
  {
   "cell_type": "code",
   "execution_count": 7,
   "metadata": {},
   "outputs": [],
   "source": [
    "X_train, X_test, y_train, y_test = train_test_split(X_data, target, test_size=0.2, random_state=1)"
   ]
  },
  {
   "cell_type": "markdown",
   "metadata": {},
   "source": [
    "## Missing values"
   ]
  },
  {
   "cell_type": "code",
   "execution_count": 8,
   "metadata": {},
   "outputs": [
    {
     "data": {
      "text/plain": [
       "acousticness        0\n",
       "artists             0\n",
       "danceability        0\n",
       "duration_ms         0\n",
       "energy              0\n",
       "explicit            0\n",
       "id                  0\n",
       "instrumentalness    0\n",
       "key                 0\n",
       "liveness            0\n",
       "loudness            0\n",
       "mode                0\n",
       "name                0\n",
       "popularity          0\n",
       "release_date        0\n",
       "speechiness         0\n",
       "tempo               0\n",
       "valence             0\n",
       "year                0\n",
       "dtype: int64"
      ]
     },
     "execution_count": 8,
     "metadata": {},
     "output_type": "execute_result"
    }
   ],
   "source": [
    "df.isnull().sum()"
   ]
  },
  {
   "cell_type": "markdown",
   "metadata": {},
   "source": [
    "## Variable types"
   ]
  },
  {
   "cell_type": "code",
   "execution_count": 9,
   "metadata": {},
   "outputs": [
    {
     "data": {
      "text/plain": [
       "acousticness        float64\n",
       "artists              object\n",
       "danceability        float64\n",
       "duration_ms           int64\n",
       "energy              float64\n",
       "explicit              int64\n",
       "id                   object\n",
       "instrumentalness    float64\n",
       "key                   int64\n",
       "liveness            float64\n",
       "loudness            float64\n",
       "mode                  int64\n",
       "name                 object\n",
       "popularity            int64\n",
       "release_date         object\n",
       "speechiness         float64\n",
       "tempo               float64\n",
       "valence             float64\n",
       "year                  int64\n",
       "dtype: object"
      ]
     },
     "execution_count": 9,
     "metadata": {},
     "output_type": "execute_result"
    }
   ],
   "source": [
    "df.dtypes"
   ]
  },
  {
   "cell_type": "markdown",
   "metadata": {},
   "source": [
    "## Output space exploratory analysis (distribution of the register over the classes)"
   ]
  },
  {
   "cell_type": "code",
   "execution_count": 10,
   "metadata": {},
   "outputs": [],
   "source": [
    "artists_by_register_count = df[\"artists\"].apply(lambda x: len(x))"
   ]
  },
  {
   "cell_type": "code",
   "execution_count": 11,
   "metadata": {},
   "outputs": [
    {
     "name": "stdout",
     "output_type": "stream",
     "text": [
      "Maximum number of artists on a single register: 28\n"
     ]
    }
   ],
   "source": [
    "print(\"Maximum number of artists on a single register: {}\".format(artists_by_register_count.max()))"
   ]
  },
  {
   "cell_type": "code",
   "execution_count": 12,
   "metadata": {},
   "outputs": [],
   "source": [
    "# Get all posible values\n",
    "def to_1D(series):\n",
    "    return pd.Series([x for _list in series for x in _list])"
   ]
  },
  {
   "cell_type": "code",
   "execution_count": 13,
   "metadata": {},
   "outputs": [],
   "source": [
    "artist_count = to_1D(target).value_counts()"
   ]
  },
  {
   "cell_type": "code",
   "execution_count": 14,
   "metadata": {},
   "outputs": [
    {
     "data": {
      "image/png": "[encoded data removed]",
      "text/plain": [
       "<Figure size 1008x288 with 1 Axes>"
      ]
     },
     "metadata": {
      "needs_background": "light"
     },
     "output_type": "display_data"
    }
   ],
   "source": [
    "fig, ax = plt.subplots(figsize = (14,4))\n",
    "ax.bar(artist_count.iloc[0:20].index,\n",
    "        artist_count.iloc[0:20].values)\n",
    "\n",
    "ax.set_ylabel(\"Frequency\", size = 12)\n",
    "ax.set_title(\"Artists participations\", size = 14)\n",
    "ax.grid(True)\n",
    "plt.xticks(rotation=45)\n",
    "plt.show()"
   ]
  },
  {
   "cell_type": "markdown",
   "metadata": {},
   "source": [
    "#### Some of the artists are novelists, so we can infer that in their case are audiobooks fragments"
   ]
  },
  {
   "cell_type": "code",
   "execution_count": 15,
   "metadata": {},
   "outputs": [
    {
     "data": {
      "image/png": "[encoded data removed]",
      "text/plain": [
       "<Figure size 432x288 with 1 Axes>"
      ]
     },
     "metadata": {
      "needs_background": "light"
     },
     "output_type": "display_data"
    }
   ],
   "source": [
    "fig, ax = plt.subplots()\n",
    "ax.set_title('Basic Plot')\n",
    "ax.boxplot(artist_count)\n",
    "ax.grid(True)\n",
    "plt.show()"
   ]
  },
  {
   "cell_type": "code",
   "execution_count": 16,
   "metadata": {},
   "outputs": [
    {
     "data": {
      "text/plain": [
       "count    32540.000000\n",
       "mean         7.202581\n",
       "std         31.239301\n",
       "min          1.000000\n",
       "25%          1.000000\n",
       "50%          2.000000\n",
       "75%          4.000000\n",
       "max       2228.000000\n",
       "dtype: float64"
      ]
     },
     "execution_count": 16,
     "metadata": {},
     "output_type": "execute_result"
    }
   ],
   "source": [
    "artist_count.describe()"
   ]
  },
  {
   "cell_type": "code",
   "execution_count": 17,
   "metadata": {},
   "outputs": [
    {
     "name": "stdout",
     "output_type": "stream",
     "text": [
      "Proportion of classes with only one sample: 0.4804240934234788\n"
     ]
    }
   ],
   "source": [
    "print(\"Proportion of classes with only one sample: {}\".format((artist_count==1).sum() / len(artist_count)))"
   ]
  },
  {
   "cell_type": "code",
   "execution_count": 18,
   "metadata": {},
   "outputs": [
    {
     "data": {
      "text/plain": [
       "6.0"
      ]
     },
     "execution_count": 18,
     "metadata": {},
     "output_type": "execute_result"
    }
   ],
   "source": [
    "artist_count.quantile(q=0.8)"
   ]
  },
  {
   "cell_type": "code",
   "execution_count": 19,
   "metadata": {},
   "outputs": [
    {
     "data": {
      "text/plain": [
       "0.4804240934234788"
      ]
     },
     "execution_count": 19,
     "metadata": {},
     "output_type": "execute_result"
    }
   ],
   "source": [
    "(artist_count<2).sum() / len(artist_count)"
   ]
  },
  {
   "cell_type": "code",
   "execution_count": 20,
   "metadata": {},
   "outputs": [
    {
     "data": {
      "text/plain": [
       "0.7649661954517517"
      ]
     },
     "execution_count": 20,
     "metadata": {},
     "output_type": "execute_result"
    }
   ],
   "source": [
    "(artist_count<5).sum() / len(artist_count)"
   ]
  },
  {
   "cell_type": "markdown",
   "metadata": {},
   "source": [
    "#### 48% of the classes have only one sample on the dataset and around 80% have less than 6 samples."
   ]
  },
  {
   "cell_type": "code",
   "execution_count": 21,
   "metadata": {},
   "outputs": [
    {
     "data": {
      "text/plain": [
       "Francisco Canaro                      2228\n",
       "Tadeusz Dolega Mostowicz              1281\n",
       "Эрнест Хемингуэй                      1175\n",
       "Эрих Мария Ремарк                     1062\n",
       "Frédéric Chopin                       1013\n",
       "                                      ... \n",
       "Steve Lieberman, The Gangsta Rabbi       1\n",
       "Frederic Riesterer                       1\n",
       "James Sanderson                          1\n",
       "KLIMT WESTWOOD                           1\n",
       "John Georgiadis                          1\n",
       "Length: 32540, dtype: int64"
      ]
     },
     "execution_count": 21,
     "metadata": {},
     "output_type": "execute_result"
    }
   ],
   "source": [
    "artist_count"
   ]
  },
  {
   "cell_type": "markdown",
   "metadata": {},
   "source": [
    "There are repeated labels?"
   ]
  },
  {
   "cell_type": "code",
   "execution_count": 22,
   "metadata": {},
   "outputs": [
    {
     "data": {
      "text/plain": [
       "32540"
      ]
     },
     "execution_count": 22,
     "metadata": {},
     "output_type": "execute_result"
    }
   ],
   "source": [
    "artist_count.index.nunique()"
   ]
  },
  {
   "cell_type": "code",
   "execution_count": 23,
   "metadata": {},
   "outputs": [
    {
     "data": {
      "text/plain": [
       "32515"
      ]
     },
     "execution_count": 23,
     "metadata": {},
     "output_type": "execute_result"
    }
   ],
   "source": [
    "artist_count.index.str.lower().nunique()"
   ]
  },
  {
   "cell_type": "markdown",
   "metadata": {},
   "source": [
    "25 repeated artists names"
   ]
  },
  {
   "cell_type": "code",
   "execution_count": 24,
   "metadata": {},
   "outputs": [],
   "source": [
    "all_artists = artist_count.index.str.lower().unique()"
   ]
  },
  {
   "cell_type": "code",
   "execution_count": 25,
   "metadata": {},
   "outputs": [],
   "source": [
    "duplicated_artists = artist_count[artist_count.index.str.lower().duplicated()]"
   ]
  },
  {
   "cell_type": "code",
   "execution_count": 26,
   "metadata": {},
   "outputs": [
    {
     "data": {
      "text/plain": [
       "Index(['SIVAN', 'RANI', 'Kyle', 'KARRA', 'iRO', 'Nero', 'KAI', 'ALI', 'Dino',\n",
       "       'FISHER', 'Oxxyo', 'LUNA', 'ENZO', 'kai', 'RAJAN', 'Otto Von Rohr',\n",
       "       'MAKO', 'FLAME', 'Icehouse', 'Lolo', 'RUN', 'CHUCK', 'Aether', 'Liz',\n",
       "       'StoneBlue'],\n",
       "      dtype='object')"
      ]
     },
     "execution_count": 26,
     "metadata": {},
     "output_type": "execute_result"
    }
   ],
   "source": [
    "duplicated_artists.index"
   ]
  },
  {
   "cell_type": "code",
   "execution_count": 27,
   "metadata": {},
   "outputs": [
    {
     "data": {
      "text/plain": [
       "Francisco Canaro                      2228\n",
       "Tadeusz Dolega Mostowicz              1281\n",
       "Эрнест Хемингуэй                      1175\n",
       "Эрих Мария Ремарк                     1062\n",
       "Frédéric Chopin                       1013\n",
       "                                      ... \n",
       "Steve Lieberman, The Gangsta Rabbi       1\n",
       "Frederic Riesterer                       1\n",
       "James Sanderson                          1\n",
       "KLIMT WESTWOOD                           1\n",
       "John Georgiadis                          1\n",
       "Length: 32540, dtype: int64"
      ]
     },
     "execution_count": 27,
     "metadata": {},
     "output_type": "execute_result"
    }
   ],
   "source": [
    "artist_count"
   ]
  },
  {
   "cell_type": "code",
   "execution_count": 28,
   "metadata": {},
   "outputs": [],
   "source": [
    "artists_count_non_dup = artist_count.index.str.lower().unique()"
   ]
  },
  {
   "cell_type": "code",
   "execution_count": 29,
   "metadata": {},
   "outputs": [],
   "source": [
    "target_lower = target.copy()"
   ]
  },
  {
   "cell_type": "code",
   "execution_count": 30,
   "metadata": {},
   "outputs": [],
   "source": [
    "target_lower = target_lower.apply(lambda x: [i.lower() for i in x])"
   ]
  },
  {
   "cell_type": "code",
   "execution_count": 31,
   "metadata": {},
   "outputs": [
    {
     "data": {
      "text/plain": [
       "0                        [mamie smith]\n",
       "1              [screamin' jay hawkins]\n",
       "2                        [mamie smith]\n",
       "3                    [oscar velazquez]\n",
       "4                               [mixe]\n",
       "                      ...             \n",
       "174384    [dj combo, sander-7, tony t]\n",
       "174385                  [alessia cara]\n",
       "174386                     [roger fly]\n",
       "174387                  [taylor swift]\n",
       "174388                     [roger fly]\n",
       "Name: artists, Length: 174389, dtype: object"
      ]
     },
     "execution_count": 31,
     "metadata": {},
     "output_type": "execute_result"
    }
   ],
   "source": [
    "target_lower"
   ]
  },
  {
   "cell_type": "markdown",
   "metadata": {},
   "source": [
    "Are there artists with their names on different languages?\n",
    "\n",
    "For example, эрнест хемингуэй is ernest hemingway"
   ]
  },
  {
   "cell_type": "code",
   "execution_count": 32,
   "metadata": {},
   "outputs": [
    {
     "data": {
      "text/plain": [
       "Index(['francisco canaro', 'tadeusz dolega mostowicz', 'эрнест хемингуэй',\n",
       "       'эрих мария ремарк', 'frédéric chopin', 'johann sebastian bach',\n",
       "       'wolfgang amadeus mozart', 'ludwig van beethoven', 'frank sinatra',\n",
       "       'wiener philharmoniker', 'georgette heyer', 'billie holiday',\n",
       "       'igor stravinsky', 'ignacio corsini', 'giuseppe verdi',\n",
       "       'vladimir horowitz', 'arturo toscanini', 'new york philharmonic',\n",
       "       'ella fitzgerald', 'johnny cash', 'lata mangeshkar', 'elvis presley',\n",
       "       'miles davis', 'bob dylan', 'charlo', 'the rolling stones',\n",
       "       'fleetwood mac', 'the beach boys', 'leonard bernstein', 'dean martin'],\n",
       "      dtype='object')"
      ]
     },
     "execution_count": 32,
     "metadata": {},
     "output_type": "execute_result"
    }
   ],
   "source": [
    "artists_count_non_dup[0:30]"
   ]
  },
  {
   "cell_type": "code",
   "execution_count": 33,
   "metadata": {},
   "outputs": [
    {
     "data": {
      "text/plain": [
       "Index(['ernesto fama', 'ernest ansermet', 'ernest bloch', 'ernest hemingway',\n",
       "       'ernesto bassignano', 'ernest tubb', 'ernest lush', 'ernest chausson',\n",
       "       'ernesto dominici', 'ernestine anderson', 'ernest macmillan',\n",
       "       'ernesto vs. bastian', 'ernest ranglin', 'ernesto bonino',\n",
       "       'ernest gold', 'ernesto decurtis', 'ernesto tagliaferri',\n",
       "       'ernest lehman', 'ernest kohl', 'ernest ashworth', 'ernesto nazareth',\n",
       "       'ernesto lecuona', 'ernesto de curtis', 'ernesto martins', 'ernesto',\n",
       "       'ernest moret', 'ernest truex'],\n",
       "      dtype='object')"
      ]
     },
     "execution_count": 33,
     "metadata": {},
     "output_type": "execute_result"
    }
   ],
   "source": [
    "artists_count_non_dup[artists_count_non_dup.str.startswith(\"ernest\")]"
   ]
  },
  {
   "cell_type": "code",
   "execution_count": 34,
   "metadata": {},
   "outputs": [
    {
     "data": {
      "text/plain": [
       "Index(['elvis presley'], dtype='object')"
      ]
     },
     "execution_count": 34,
     "metadata": {},
     "output_type": "execute_result"
    }
   ],
   "source": [
    "artists_count_non_dup[artists_count_non_dup.str.endswith(\"presley\")]"
   ]
  },
  {
   "cell_type": "markdown",
   "metadata": {},
   "source": [
    "Are there any very similar strings between them?"
   ]
  },
  {
   "cell_type": "markdown",
   "metadata": {},
   "source": [
    "- johnny nash, 'jonny nash'\n",
    "- "
   ]
  },
  {
   "cell_type": "markdown",
   "metadata": {},
   "source": [
    "Are there artists that does not separe by comma? like / or others?"
   ]
  },
  {
   "cell_type": "code",
   "execution_count": 35,
   "metadata": {},
   "outputs": [],
   "source": [
    "regex = \"[a-z]/[A-Z]\""
   ]
  },
  {
   "cell_type": "code",
   "execution_count": 36,
   "metadata": {},
   "outputs": [],
   "source": [
    "index_filter = target.astype(str).str.contains(regex, regex=True)"
   ]
  },
  {
   "cell_type": "code",
   "execution_count": 37,
   "metadata": {},
   "outputs": [
    {
     "data": {
      "text/plain": [
       "0         False\n",
       "1         False\n",
       "2         False\n",
       "3         False\n",
       "4         False\n",
       "          ...  \n",
       "174384    False\n",
       "174385    False\n",
       "174386    False\n",
       "174387    False\n",
       "174388    False\n",
       "Name: artists, Length: 174389, dtype: bool"
      ]
     },
     "execution_count": 37,
     "metadata": {},
     "output_type": "execute_result"
    }
   ],
   "source": [
    "index_filter"
   ]
  },
  {
   "cell_type": "code",
   "execution_count": 38,
   "metadata": {},
   "outputs": [],
   "source": [
    "def split_slash(x):\n",
    "    all_artists = []\n",
    "    for i in x:\n",
    "        all_artists = all_artists + i.split(\"/\")\n",
    "    return all_artists"
   ]
  },
  {
   "cell_type": "code",
   "execution_count": 39,
   "metadata": {},
   "outputs": [],
   "source": [
    "target_lower[index_filter] = target_lower[index_filter].apply(lambda x: split_slash(x))"
   ]
  },
  {
   "cell_type": "code",
   "execution_count": 40,
   "metadata": {},
   "outputs": [
    {
     "data": {
      "text/plain": [
       "0                        [mamie smith]\n",
       "1              [screamin' jay hawkins]\n",
       "2                        [mamie smith]\n",
       "3                    [oscar velazquez]\n",
       "4                               [mixe]\n",
       "                      ...             \n",
       "174384    [dj combo, sander-7, tony t]\n",
       "174385                  [alessia cara]\n",
       "174386                     [roger fly]\n",
       "174387                  [taylor swift]\n",
       "174388                     [roger fly]\n",
       "Name: artists, Length: 174389, dtype: object"
      ]
     },
     "execution_count": 40,
     "metadata": {},
     "output_type": "execute_result"
    }
   ],
   "source": [
    "target_lower"
   ]
  },
  {
   "cell_type": "code",
   "execution_count": 41,
   "metadata": {},
   "outputs": [],
   "source": [
    "from sklearn.preprocessing import LabelEncoder, OneHotEncoder, MultiLabelBinarizer"
   ]
  },
  {
   "cell_type": "code",
   "execution_count": 42,
   "metadata": {},
   "outputs": [],
   "source": [
    "all_artists_list = to_1D(target_lower)"
   ]
  },
  {
   "cell_type": "code",
   "execution_count": 43,
   "metadata": {},
   "outputs": [
    {
     "data": {
      "text/plain": [
       "0                   mamie smith\n",
       "1         screamin' jay hawkins\n",
       "2                   mamie smith\n",
       "3               oscar velazquez\n",
       "4                          mixe\n",
       "                  ...          \n",
       "234916                   tony t\n",
       "234917             alessia cara\n",
       "234918                roger fly\n",
       "234919             taylor swift\n",
       "234920                roger fly\n",
       "Length: 234921, dtype: object"
      ]
     },
     "execution_count": 43,
     "metadata": {},
     "output_type": "execute_result"
    }
   ],
   "source": [
    "all_artists_list"
   ]
  },
  {
   "cell_type": "markdown",
   "metadata": {},
   "source": [
    "### Discard classes with only 2 instances (for the sake of output dimensionality)"
   ]
  },
  {
   "cell_type": "code",
   "execution_count": 44,
   "metadata": {},
   "outputs": [
    {
     "data": {
      "text/plain": [
       "0                   mamie smith\n",
       "1         screamin' jay hawkins\n",
       "2                   mamie smith\n",
       "3               oscar velazquez\n",
       "4                          mixe\n",
       "                  ...          \n",
       "234916                   tony t\n",
       "234917             alessia cara\n",
       "234918                roger fly\n",
       "234919             taylor swift\n",
       "234920                roger fly\n",
       "Length: 234921, dtype: object"
      ]
     },
     "execution_count": 44,
     "metadata": {},
     "output_type": "execute_result"
    }
   ],
   "source": [
    "all_artists_list"
   ]
  },
  {
   "cell_type": "code",
   "execution_count": 45,
   "metadata": {},
   "outputs": [],
   "source": [
    "def drop_artists_low_aparition(x, artists_to_discard):\n",
    "    for artist in artists_to_discard.index.to_list():\n",
    "        if artist in x:\n",
    "            x.remove(artist)\n",
    "    return x"
   ]
  },
  {
   "cell_type": "code",
   "execution_count": 46,
   "metadata": {},
   "outputs": [],
   "source": [
    "split_index = (to_1D(target_lower).value_counts() > 2).sum()"
   ]
  },
  {
   "cell_type": "code",
   "execution_count": 47,
   "metadata": {},
   "outputs": [],
   "source": [
    "artists_to_discard = to_1D(target_lower).value_counts()[split_index::]"
   ]
  },
  {
   "cell_type": "code",
   "execution_count": 48,
   "metadata": {},
   "outputs": [],
   "source": [
    "# Remove all classes with just one instance\n",
    "target_filtered = target_lower.apply(lambda x: drop_artists_low_aparition(x, artists_to_discard))"
   ]
  },
  {
   "cell_type": "code",
   "execution_count": 49,
   "metadata": {},
   "outputs": [],
   "source": [
    "index_to_keep = target_filtered[target_filtered.apply(lambda x: len(x)) > 0].index.to_list()"
   ]
  },
  {
   "cell_type": "code",
   "execution_count": 50,
   "metadata": {},
   "outputs": [],
   "source": [
    "target_filtered = target_filtered[target_filtered.apply(lambda x: len(x)) > 0]"
   ]
  },
  {
   "cell_type": "code",
   "execution_count": 51,
   "metadata": {},
   "outputs": [],
   "source": [
    "X_data = X_data[X_data.index.isin(index_to_keep)]"
   ]
  },
  {
   "cell_type": "code",
   "execution_count": 52,
   "metadata": {},
   "outputs": [
    {
     "data": {
      "text/plain": [
       "((159068, 16), (159068,))"
      ]
     },
     "execution_count": 52,
     "metadata": {},
     "output_type": "execute_result"
    }
   ],
   "source": [
    "X_data.shape, target_filtered.shape"
   ]
  },
  {
   "cell_type": "markdown",
   "metadata": {},
   "source": [
    "Only 11694 different labels are mantain."
   ]
  },
  {
   "cell_type": "markdown",
   "metadata": {},
   "source": [
    "## Feature Engineering"
   ]
  },
  {
   "cell_type": "markdown",
   "metadata": {},
   "source": [
    "### Datetime manipulation (release date)"
   ]
  },
  {
   "cell_type": "markdown",
   "metadata": {},
   "source": [
    "How many samples have a the month and day of the month in it?"
   ]
  },
  {
   "cell_type": "code",
   "execution_count": 53,
   "metadata": {},
   "outputs": [
    {
     "data": {
      "text/plain": [
       "array([0.69790907, 0.30209093])"
      ]
     },
     "execution_count": 53,
     "metadata": {},
     "output_type": "execute_result"
    }
   ],
   "source": [
    "(X_data[\"release_date\"].str.split(\"-\").apply(lambda x: len(x)) > 1).value_counts().values / len(X_data)"
   ]
  },
  {
   "cell_type": "markdown",
   "metadata": {},
   "source": [
    "Approx 30% percent of data don't have them, so, let's not add them to the dataset."
   ]
  },
  {
   "cell_type": "code",
   "execution_count": 54,
   "metadata": {},
   "outputs": [],
   "source": [
    "X_data.drop(columns=\"release_date\", inplace=True)"
   ]
  },
  {
   "cell_type": "code",
   "execution_count": 57,
   "metadata": {},
   "outputs": [
    {
     "data": {
      "text/plain": [
       "((159068, 15), (159068,))"
      ]
     },
     "execution_count": 57,
     "metadata": {},
     "output_type": "execute_result"
    }
   ],
   "source": [
    "X_data.shape, target_filtered.shape"
   ]
  },
  {
   "cell_type": "markdown",
   "metadata": {},
   "source": [
    "## Feature selection"
   ]
  },
  {
   "cell_type": "markdown",
   "metadata": {},
   "source": [
    "__Pipeline of feature selection:__\n",
    "\n",
    "- Remove __quasi-constant features__ (features with variance less than certain threshold, both categorical and numerical)\n",
    "- Remove __duplicated features__ (features with the same values)\n",
    "- Remove __highly correlated__ features among themselves (keep features highly correlated with the target yet uncorrelated among them). This helps too to prevent misleading coeficients of importance when trees ensembling models are fitted.\n",
    "    - Hypothesis: speechiness and instrumentalness, loudness and energy are correlated\n",
    "- Remove other non-discriminative features using Embedded methods (leveraging the use of tree emsenble methods like random forest) and Wrapper methods (forward and backward)"
   ]
  },
  {
   "cell_type": "code",
   "execution_count": 58,
   "metadata": {},
   "outputs": [],
   "source": [
    "import seaborn as sns"
   ]
  },
  {
   "cell_type": "markdown",
   "metadata": {},
   "source": [
    "Pearson correlation coeficient (lineal relationship)"
   ]
  },
  {
   "cell_type": "code",
   "execution_count": 59,
   "metadata": {},
   "outputs": [
    {
     "data": {
      "image/png": "[encoded data removed]",
      "text/plain": [
       "<Figure size 864x864 with 2 Axes>"
      ]
     },
     "metadata": {
      "needs_background": "light"
     },
     "output_type": "display_data"
    }
   ],
   "source": [
    "corrmat = X_data.corr(method=\"pearson\")\n",
    "fig, ax = plt.subplots()\n",
    "fig.set_size_inches(12, 12)\n",
    "sns.heatmap(corrmat, annot = True)\n",
    "plt.show()"
   ]
  },
  {
   "cell_type": "markdown",
   "metadata": {},
   "source": [
    "Some variables as expected are highly correlated like: \n",
    "\n",
    "- loudness and energy __(0.779267)__\n",
    "- acousticness and energy __(-0.750852)__\n",
    "- year and acousticness __(-0.607515)__ "
   ]
  },
  {
   "cell_type": "markdown",
   "metadata": {},
   "source": [
    "__Methods for eliminate highly correlated features__\n",
    "\n",
    "__Brute force__: Determine correlation between a selected feature and every other. If the feature is highly correlated, drop it. __Problem__: This can lead to eliminate better features.\n",
    "\n",
    "__Grouping__:\n",
    "\n",
    "    1. Identify groups of correlated features.\n",
    "    2. Select the feature with higher predictive power (train a ml model on each group and select the best feature, or keep the feature with the less number of missing values)\n",
    "    3. Discard the rest"
   ]
  },
  {
   "cell_type": "code",
   "execution_count": 60,
   "metadata": {},
   "outputs": [],
   "source": [
    "from feature_engine.selection import DropCorrelatedFeatures, SmartCorrelatedSelection, DropConstantFeatures, DropDuplicateFeatures\n",
    "from sklearn.ensemble import RandomForestClassifier\n",
    "from sklearn.multioutput import MultiOutputClassifier"
   ]
  },
  {
   "cell_type": "code",
   "execution_count": 61,
   "metadata": {},
   "outputs": [],
   "source": [
    "# Values for the feature selection\n",
    "random_state_split = 42\n",
    "constant_feat_tolerance = 0.92\n",
    "correlation_threshold = 0.75\n",
    "correlation_method = \"pearson\""
   ]
  },
  {
   "cell_type": "code",
   "execution_count": 62,
   "metadata": {},
   "outputs": [],
   "source": [
    "correlation_approach = DropCorrelatedFeatures(\n",
    "    method=correlation_method,\n",
    "    threshold=correlation_threshold,\n",
    ")"
   ]
  },
  {
   "cell_type": "code",
   "execution_count": 63,
   "metadata": {},
   "outputs": [],
   "source": [
    "feat_sel_pipeline = Pipeline([\n",
    "    (\"quasi-constant\", DropConstantFeatures(tol=constant_feat_tolerance)),\n",
    "    (\"duplicated\", DropDuplicateFeatures()),\n",
    "    (\"correlation\", correlation_approach)\n",
    "])"
   ]
  },
  {
   "cell_type": "code",
   "execution_count": 66,
   "metadata": {},
   "outputs": [],
   "source": [
    "X_train, X_test, y_train, y_test = train_test_split(X_data, target_filtered, test_size=0.2, random_state=random_state_split)"
   ]
  },
  {
   "cell_type": "code",
   "execution_count": 67,
   "metadata": {},
   "outputs": [
    {
     "data": {
      "text/plain": [
       "Pipeline(steps=[('quasi-constant',\n",
       "                 DropConstantFeatures(tol=0.92,\n",
       "                                      variables=['acousticness', 'danceability',\n",
       "                                                 'duration_ms', 'energy',\n",
       "                                                 'explicit', 'instrumentalness',\n",
       "                                                 'key', 'liveness', 'loudness',\n",
       "                                                 'mode', 'popularity',\n",
       "                                                 'speechiness', 'tempo',\n",
       "                                                 'valence', 'year'])),\n",
       "                ('duplicated',\n",
       "                 DropDuplicateFeatures(variables=['acousticness',\n",
       "                                                  'danceability', 'duration_ms',\n",
       "                                                  'energy', 'instrumentalness',\n",
       "                                                  'key', 'liveness', 'loudness',\n",
       "                                                  'mode', 'popularity',\n",
       "                                                  'speechiness', 'tempo',\n",
       "                                                  'valence', 'year'])),\n",
       "                ('correlation',\n",
       "                 DropCorrelatedFeatures(threshold=0.75,\n",
       "                                        variables=['acousticness',\n",
       "                                                   'danceability',\n",
       "                                                   'duration_ms', 'energy',\n",
       "                                                   'instrumentalness', 'key',\n",
       "                                                   'liveness', 'loudness',\n",
       "                                                   'mode', 'popularity',\n",
       "                                                   'speechiness', 'tempo',\n",
       "                                                   'valence', 'year']))])"
      ]
     },
     "execution_count": 67,
     "metadata": {},
     "output_type": "execute_result"
    }
   ],
   "source": [
    "feat_sel_pipeline.fit(X_train, y_train)"
   ]
  },
  {
   "cell_type": "code",
   "execution_count": 72,
   "metadata": {},
   "outputs": [
    {
     "name": "stdout",
     "output_type": "stream",
     "text": [
      "quasiconstant features: ['explicit']\n"
     ]
    }
   ],
   "source": [
    "print(\"quasiconstant features: {}\".format(feat_sel_pipeline[0].features_to_drop_))"
   ]
  },
  {
   "cell_type": "code",
   "execution_count": 69,
   "metadata": {},
   "outputs": [
    {
     "data": {
      "text/plain": [
       "set()"
      ]
     },
     "execution_count": 69,
     "metadata": {},
     "output_type": "execute_result"
    }
   ],
   "source": [
    "print(\"duplicated features: {}\".format(feat_sel_pipeline[1].features_to_drop_)"
   ]
  },
  {
   "cell_type": "code",
   "execution_count": 74,
   "metadata": {},
   "outputs": [
    {
     "name": "stdout",
     "output_type": "stream",
     "text": [
      "highly correlated features: {'energy'}\n"
     ]
    }
   ],
   "source": [
    "print(\"highly correlated features: {}\".format(feat_sel_pipeline[2].features_to_drop_))"
   ]
  },
  {
   "cell_type": "code",
   "execution_count": 75,
   "metadata": {},
   "outputs": [
    {
     "data": {
      "text/plain": [
       "[{'acousticness', 'energy'}]"
      ]
     },
     "execution_count": 75,
     "metadata": {},
     "output_type": "execute_result"
    }
   ],
   "source": [
    "feat_sel_pipeline[2].correlated_feature_sets_"
   ]
  },
  {
   "cell_type": "code",
   "execution_count": 77,
   "metadata": {},
   "outputs": [],
   "source": [
    "X_train = feat_sel_pipeline.transform(X_train)\n",
    "X_test = feat_sel_pipeline.transform(X_test)"
   ]
  },
  {
   "cell_type": "code",
   "execution_count": 80,
   "metadata": {},
   "outputs": [
    {
     "data": {
      "text/plain": [
       "((127254, 13), (31814, 13))"
      ]
     },
     "execution_count": 80,
     "metadata": {},
     "output_type": "execute_result"
    }
   ],
   "source": [
    "X_train.shape, X_test.shape"
   ]
  },
  {
   "cell_type": "markdown",
   "metadata": {},
   "source": [
    "### Only 13 features remain"
   ]
  },
  {
   "cell_type": "code",
   "execution_count": 90,
   "metadata": {},
   "outputs": [],
   "source": [
    "X_data_final = pd.concat([X_train, X_test]).reset_index(drop=True)"
   ]
  },
  {
   "cell_type": "code",
   "execution_count": 81,
   "metadata": {},
   "outputs": [
    {
     "data": {
      "text/plain": [
       "0                           [mamie smith]\n",
       "1                 [screamin' jay hawkins]\n",
       "2                           [mamie smith]\n",
       "3                       [oscar velazquez]\n",
       "5         [mamie smith & her jazz hounds]\n",
       "                       ...               \n",
       "174384       [dj combo, sander-7, tony t]\n",
       "174385                     [alessia cara]\n",
       "174386                        [roger fly]\n",
       "174387                     [taylor swift]\n",
       "174388                        [roger fly]\n",
       "Name: artists, Length: 159068, dtype: object"
      ]
     },
     "execution_count": 81,
     "metadata": {},
     "output_type": "execute_result"
    }
   ],
   "source": [
    "target_filtered"
   ]
  },
  {
   "cell_type": "code",
   "execution_count": 99,
   "metadata": {},
   "outputs": [],
   "source": [
    "X_data_final.to_csv(\"preprocessed/X_data.csv\", index=False)"
   ]
  },
  {
   "cell_type": "code",
   "execution_count": 100,
   "metadata": {},
   "outputs": [],
   "source": [
    "target_filtered.to_csv(\"preprocessed/target.csv\", index=False)"
   ]
  },
  {
   "cell_type": "markdown",
   "metadata": {},
   "source": [
    "## Feature scaling (not needed for tree based methods)"
   ]
  },
  {
   "cell_type": "markdown",
   "metadata": {},
   "source": [
    "\n",
    "\n",
    "- acousticness (Ranges from 0 to 1)\n",
    "- danceability (Ranges from 0 to 1)\n",
    "- energy (Ranges from 0 to 1)\n",
    "- duration_ms (Integer typically ranging from 200k to 300k)\n",
    "- instrumentalness (Ranges from 0 to 1)\n",
    "- valence (Ranges from 0 to 1)\n",
    "- popularity (Ranges from 0 to 100)\n",
    "- tempo (Float typically ranging from 50 to 150)\n",
    "- liveness (Ranges from 0 to 1)\n",
    "- loudness (Float typically ranging from -60 to 0)\n",
    "- speechiness (Ranges from 0 to 1)\n",
    "- year (Ranges from 1921 to 2020)\n"
   ]
  },
  {
   "cell_type": "markdown",
   "metadata": {},
   "source": [
    "## Scaling variables"
   ]
  },
  {
   "cell_type": "code",
   "execution_count": 79,
   "metadata": {},
   "outputs": [
    {
     "data": {
      "text/plain": [
       "StandardScaler()"
      ]
     },
     "execution_count": 79,
     "metadata": {},
     "output_type": "execute_result"
    }
   ],
   "source": [
    "scaler = StandardScaler()\n",
    "scaler.fit(X_train)"
   ]
  }
 ],
 "metadata": {
  "kernelspec": {
   "display_name": "Python 3",
   "language": "python",
   "name": "python3"
  },
  "language_info": {
   "codemirror_mode": {
    "name": "ipython",
    "version": 3
   },
   "file_extension": ".py",
   "mimetype": "text/x-python",
   "name": "python",
   "nbconvert_exporter": "python",
   "pygments_lexer": "ipython3",
   "version": "3.7.10"
  }
 },
 "nbformat": 4,
 "nbformat_minor": 4
}
