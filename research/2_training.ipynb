{
 "cells": [
  {
   "cell_type": "code",
   "execution_count": null,
   "id": "retained-significance",
   "metadata": {},
   "outputs": [],
   "source": [
    "from xgboost import XGBClassifier\n",
    "from sklearn.ensemble import RandomForestClassifier\n",
    "from sklearn.multioutput import MultiOutputClassifier\n",
    "from sklearn.model_selection import train_test_split\n",
    "from sklearn.preprocessing import StandardScaler\n",
    "from sklearn.utils import class_weight\n",
    "from sklearn.metrics import classification_report\n",
    "from sklearn.metrics import confusion_matrix"
   ]
  },
  {
   "cell_type": "code",
   "execution_count": 81,
   "id": "current-referral",
   "metadata": {},
   "outputs": [],
   "source": [
    "def fetch_logged_data(run_id):\n",
    "    client = mlflow.tracking.MlflowClient()\n",
    "    data = client.get_run(run_id).data\n",
    "    tags = {k: v for k, v in data.tags.items() if not k.startswith(\"mlflow.\")}\n",
    "    artifacts = [f.path for f in client.list_artifacts(run_id, \"model\")]\n",
    "    return data.params, data.metrics, tags, artifacts"
   ]
  },
  {
   "cell_type": "code",
   "execution_count": 74,
   "id": "acceptable-involvement",
   "metadata": {},
   "outputs": [],
   "source": [
    "features = [\"acousticness\", \"danceability\", \"energy\", \"explicit\"]"
   ]
  },
  {
   "cell_type": "code",
   "execution_count": 82,
   "id": "careful-tyler",
   "metadata": {},
   "outputs": [],
   "source": [
    "mlflow.sklearn.autolog()"
   ]
  },
  {
   "cell_type": "code",
   "execution_count": 83,
   "id": "geographic-cocktail",
   "metadata": {},
   "outputs": [],
   "source": [
    "# Scale train and test data\n",
    "# X_train = scaler.transform(X_train)\n",
    "# X_test = scaler.transform(X_test)"
   ]
  },
  {
   "cell_type": "code",
   "execution_count": 84,
   "id": "satisfactory-teach",
   "metadata": {},
   "outputs": [],
   "source": [
    "forest isnullndomForestClassifier(n_estimators=10)\n",
    "multi_target_forest = MultiOutputClassifier(forest, n_jobs=-1)"
   ]
  },
  {
   "cell_type": "code",
   "execution_count": 85,
   "id": "eastern-basement",
   "metadata": {},
   "outputs": [
    {
     "name": "stderr",
     "output_type": "stream",
     "text": [
      "2021/03/11 19:04:39 WARNING mlflow.sklearn.utils: log_loss failed. The metric training_log_losswill not be recorded. Metric error: Found array with dim 3. Estimator expected <= 2.\n",
      "2021/03/11 19:04:39 WARNING mlflow.sklearn.utils: roc_auc_score failed. The metric training_roc_auc_scorewill not be recorded. Metric error: Found array with dim 3. Estimator expected <= 2.\n",
      "2021/03/11 19:04:39 WARNING mlflow.sklearn.utils: plot_confusion_matrix failed. The artifact training_confusion_matrix will not be recorded. Artifact error: multilabel-indicator is not supported\n",
      "2021/03/11 19:04:40 WARNING mlflow.utils.autologging_utils: MLflow issued a warning during sklearn autologging: \"/usr/local/lib/python3.7/site-packages/mlflow/models/signature.py:123: UserWarning: Hint: Inferred schema contains integer column(s). Integer columns in Python cannot represent missing values. If your input data contains missing values at inference time, it will be encoded as floats and will cause a schema enforcement error. The best way to avoid this problem is to infer the model schema based on a realistic data sample (training dataset) that includes missing values. Alternatively, you can declare integer columns as doubles (float64) whenever these columns may have missing values. See `Handling Integers With Missing Values <https://www.mlflow.org/docs/latest/models.html#handling-integers-with-missing-values>`_ for more details.\"\n"
     ]
    }
   ],
   "source": [
    "with mlflow.start_run() as run:\n",
    "    multi_target_forest.fit(X_train, y_train)"
   ]
  },
  {
   "cell_type": "code",
   "execution_count": 93,
   "id": "radio-violin",
   "metadata": {},
   "outputs": [],
   "source": [
    "params, metrics, tags, artifacts = fetch_logged_data(run.info.run_id)"
   ]
  },
  {
   "cell_type": "code",
   "execution_count": 94,
   "id": "mathematical-river",
   "metadata": {},
   "outputs": [],
   "source": [
    "scoring = ['accuracy', 'precision_weighted', 'recall_weighted', 'f1_weighted', 'roc_auc']"
   ]
  },
  {
   "cell_type": "code",
   "execution_count": 95,
   "id": "trained-finding",
   "metadata": {},
   "outputs": [],
   "source": [
    "target_names = df_target.columns.tolist()"
   ]
  },
  {
   "cell_type": "code",
   "execution_count": 96,
   "id": "loved-report",
   "metadata": {},
   "outputs": [
    {
     "name": "stderr",
     "output_type": "stream",
     "text": [
      "/usr/local/lib/python3.7/site-packages/sklearn/metrics/_classification.py:1245: UndefinedMetricWarning: Precision and F-score are ill-defined and being set to 0.0 in samples with no predicted labels. Use `zero_division` parameter to control this behavior.\n",
      "  _warn_prf(average, modifier, msg_start, len(result))\n",
      "/usr/local/lib/python3.7/site-packages/sklearn/metrics/_classification.py:1245: UndefinedMetricWarning: Recall and F-score are ill-defined and being set to 0.0 in samples with no true labels. Use `zero_division` parameter to control this behavior.\n",
      "  _warn_prf(average, modifier, msg_start, len(result))\n"
     ]
    }
   ],
   "source": [
    "y_pred = multi_target_forest.predict(X_test)\n",
    "report = classification_report(y_test, y_pred, target_names=target_names)"
   ]
  },
  {
   "cell_type": "code",
   "execution_count": 97,
   "id": "cooperative-validity",
   "metadata": {},
   "outputs": [
    {
     "name": "stdout",
     "output_type": "stream",
     "text": [
      "                          precision    recall  f1-score   support\n",
      "\n",
      "        Francisco Canaro       0.93      0.60      0.73       439\n",
      "Tadeusz Dolega Mostowicz       1.00      0.95      0.97       290\n",
      "        Эрнест Хемингуэй       1.00      0.98      0.99       249\n",
      "       Эрих Мария Ремарк       1.00      0.98      0.99       199\n",
      "         Frédéric Chopin       0.88      0.42      0.57       198\n",
      "   Johann Sebastian Bach       0.98      0.28      0.44       182\n",
      " Wolfgang Amadeus Mozart       0.85      0.06      0.11       185\n",
      "    Ludwig van Beethoven       0.76      0.09      0.17       171\n",
      "           Frank Sinatra       0.54      0.04      0.08       167\n",
      "   Wiener Philharmoniker       0.96      0.37      0.54       139\n",
      "\n",
      "               micro avg       0.96      0.54      0.69      2219\n",
      "               macro avg       0.89      0.48      0.56      2219\n",
      "            weighted avg       0.90      0.54      0.62      2219\n",
      "             samples avg       0.03      0.03      0.03      2219\n",
      "\n"
     ]
    }
   ],
   "source": [
    "print(report)"
   ]
  },
  {
   "cell_type": "code",
   "execution_count": 121,
   "id": "complete-casino",
   "metadata": {},
   "outputs": [
    {
     "data": {
      "text/html": [
       "<div>\n",
       "<style scoped>\n",
       "    .dataframe tbody tr th:only-of-type {\n",
       "        vertical-align: middle;\n",
       "    }\n",
       "\n",
       "    .dataframe tbody tr th {\n",
       "        vertical-align: top;\n",
       "    }\n",
       "\n",
       "    .dataframe thead th {\n",
       "        text-align: right;\n",
       "    }\n",
       "</style>\n",
       "<table border=\"1\" class=\"dataframe\">\n",
       "  <thead>\n",
       "    <tr style=\"text-align: right;\">\n",
       "      <th></th>\n",
       "      <th>acousticness</th>\n",
       "      <th>danceability</th>\n",
       "      <th>duration_ms</th>\n",
       "      <th>energy</th>\n",
       "      <th>explicit</th>\n",
       "      <th>instrumentalness</th>\n",
       "      <th>key</th>\n",
       "      <th>liveness</th>\n",
       "      <th>loudness</th>\n",
       "      <th>mode</th>\n",
       "      <th>popularity</th>\n",
       "      <th>speechiness</th>\n",
       "      <th>tempo</th>\n",
       "      <th>valence</th>\n",
       "      <th>year</th>\n",
       "    </tr>\n",
       "  </thead>\n",
       "  <tbody>\n",
       "    <tr>\n",
       "      <th>120506</th>\n",
       "      <td>0.86900</td>\n",
       "      <td>0.465</td>\n",
       "      <td>212000</td>\n",
       "      <td>0.2770</td>\n",
       "      <td>0</td>\n",
       "      <td>0.000000</td>\n",
       "      <td>2</td>\n",
       "      <td>0.157</td>\n",
       "      <td>-13.384</td>\n",
       "      <td>1</td>\n",
       "      <td>45</td>\n",
       "      <td>0.0306</td>\n",
       "      <td>105.451</td>\n",
       "      <td>0.664</td>\n",
       "      <td>1990</td>\n",
       "    </tr>\n",
       "    <tr>\n",
       "      <th>44830</th>\n",
       "      <td>0.89900</td>\n",
       "      <td>0.425</td>\n",
       "      <td>378760</td>\n",
       "      <td>0.2990</td>\n",
       "      <td>0</td>\n",
       "      <td>0.700000</td>\n",
       "      <td>9</td>\n",
       "      <td>0.736</td>\n",
       "      <td>-13.243</td>\n",
       "      <td>1</td>\n",
       "      <td>0</td>\n",
       "      <td>0.0574</td>\n",
       "      <td>127.038</td>\n",
       "      <td>0.298</td>\n",
       "      <td>1952</td>\n",
       "    </tr>\n",
       "    <tr>\n",
       "      <th>168704</th>\n",
       "      <td>0.92500</td>\n",
       "      <td>0.398</td>\n",
       "      <td>194867</td>\n",
       "      <td>0.0977</td>\n",
       "      <td>0</td>\n",
       "      <td>0.000003</td>\n",
       "      <td>1</td>\n",
       "      <td>0.160</td>\n",
       "      <td>-18.775</td>\n",
       "      <td>1</td>\n",
       "      <td>31</td>\n",
       "      <td>0.0391</td>\n",
       "      <td>135.056</td>\n",
       "      <td>0.172</td>\n",
       "      <td>1993</td>\n",
       "    </tr>\n",
       "    <tr>\n",
       "      <th>69701</th>\n",
       "      <td>0.40300</td>\n",
       "      <td>0.787</td>\n",
       "      <td>178453</td>\n",
       "      <td>0.6220</td>\n",
       "      <td>0</td>\n",
       "      <td>0.000004</td>\n",
       "      <td>0</td>\n",
       "      <td>0.219</td>\n",
       "      <td>-11.738</td>\n",
       "      <td>1</td>\n",
       "      <td>41</td>\n",
       "      <td>0.0532</td>\n",
       "      <td>86.438</td>\n",
       "      <td>0.932</td>\n",
       "      <td>1986</td>\n",
       "    </tr>\n",
       "    <tr>\n",
       "      <th>15524</th>\n",
       "      <td>0.43400</td>\n",
       "      <td>0.709</td>\n",
       "      <td>216693</td>\n",
       "      <td>0.7570</td>\n",
       "      <td>0</td>\n",
       "      <td>0.000000</td>\n",
       "      <td>7</td>\n",
       "      <td>0.336</td>\n",
       "      <td>-7.006</td>\n",
       "      <td>1</td>\n",
       "      <td>60</td>\n",
       "      <td>0.0408</td>\n",
       "      <td>140.664</td>\n",
       "      <td>0.852</td>\n",
       "      <td>1998</td>\n",
       "    </tr>\n",
       "    <tr>\n",
       "      <th>...</th>\n",
       "      <td>...</td>\n",
       "      <td>...</td>\n",
       "      <td>...</td>\n",
       "      <td>...</td>\n",
       "      <td>...</td>\n",
       "      <td>...</td>\n",
       "      <td>...</td>\n",
       "      <td>...</td>\n",
       "      <td>...</td>\n",
       "      <td>...</td>\n",
       "      <td>...</td>\n",
       "      <td>...</td>\n",
       "      <td>...</td>\n",
       "      <td>...</td>\n",
       "      <td>...</td>\n",
       "    </tr>\n",
       "    <tr>\n",
       "      <th>73349</th>\n",
       "      <td>0.26200</td>\n",
       "      <td>0.624</td>\n",
       "      <td>293227</td>\n",
       "      <td>0.7070</td>\n",
       "      <td>0</td>\n",
       "      <td>0.000000</td>\n",
       "      <td>0</td>\n",
       "      <td>0.963</td>\n",
       "      <td>-8.233</td>\n",
       "      <td>1</td>\n",
       "      <td>65</td>\n",
       "      <td>0.0291</td>\n",
       "      <td>121.961</td>\n",
       "      <td>0.368</td>\n",
       "      <td>2004</td>\n",
       "    </tr>\n",
       "    <tr>\n",
       "      <th>109259</th>\n",
       "      <td>0.00153</td>\n",
       "      <td>0.628</td>\n",
       "      <td>227068</td>\n",
       "      <td>0.9370</td>\n",
       "      <td>0</td>\n",
       "      <td>0.757000</td>\n",
       "      <td>1</td>\n",
       "      <td>0.107</td>\n",
       "      <td>-4.491</td>\n",
       "      <td>1</td>\n",
       "      <td>0</td>\n",
       "      <td>0.0506</td>\n",
       "      <td>147.006</td>\n",
       "      <td>0.848</td>\n",
       "      <td>2014</td>\n",
       "    </tr>\n",
       "    <tr>\n",
       "      <th>50057</th>\n",
       "      <td>0.24200</td>\n",
       "      <td>0.332</td>\n",
       "      <td>159453</td>\n",
       "      <td>0.7240</td>\n",
       "      <td>0</td>\n",
       "      <td>0.000000</td>\n",
       "      <td>2</td>\n",
       "      <td>0.614</td>\n",
       "      <td>-8.829</td>\n",
       "      <td>1</td>\n",
       "      <td>57</td>\n",
       "      <td>0.0336</td>\n",
       "      <td>159.715</td>\n",
       "      <td>0.938</td>\n",
       "      <td>1979</td>\n",
       "    </tr>\n",
       "    <tr>\n",
       "      <th>5192</th>\n",
       "      <td>0.91700</td>\n",
       "      <td>0.334</td>\n",
       "      <td>731293</td>\n",
       "      <td>0.4190</td>\n",
       "      <td>0</td>\n",
       "      <td>0.000702</td>\n",
       "      <td>8</td>\n",
       "      <td>0.235</td>\n",
       "      <td>-11.443</td>\n",
       "      <td>1</td>\n",
       "      <td>10</td>\n",
       "      <td>0.0348</td>\n",
       "      <td>108.368</td>\n",
       "      <td>0.468</td>\n",
       "      <td>1946</td>\n",
       "    </tr>\n",
       "    <tr>\n",
       "      <th>128037</th>\n",
       "      <td>0.17000</td>\n",
       "      <td>0.754</td>\n",
       "      <td>97341</td>\n",
       "      <td>0.1140</td>\n",
       "      <td>1</td>\n",
       "      <td>0.000360</td>\n",
       "      <td>0</td>\n",
       "      <td>0.105</td>\n",
       "      <td>-21.514</td>\n",
       "      <td>1</td>\n",
       "      <td>0</td>\n",
       "      <td>0.9280</td>\n",
       "      <td>45.826</td>\n",
       "      <td>0.524</td>\n",
       "      <td>1945</td>\n",
       "    </tr>\n",
       "  </tbody>\n",
       "</table>\n",
       "<p>139511 rows × 15 columns</p>\n",
       "</div>"
      ],
      "text/plain": [
       "        acousticness  danceability  duration_ms  energy  explicit  \\\n",
       "120506       0.86900         0.465       212000  0.2770         0   \n",
       "44830        0.89900         0.425       378760  0.2990         0   \n",
       "168704       0.92500         0.398       194867  0.0977         0   \n",
       "69701        0.40300         0.787       178453  0.6220         0   \n",
       "15524        0.43400         0.709       216693  0.7570         0   \n",
       "...              ...           ...          ...     ...       ...   \n",
       "73349        0.26200         0.624       293227  0.7070         0   \n",
       "109259       0.00153         0.628       227068  0.9370         0   \n",
       "50057        0.24200         0.332       159453  0.7240         0   \n",
       "5192         0.91700         0.334       731293  0.4190         0   \n",
       "128037       0.17000         0.754        97341  0.1140         1   \n",
       "\n",
       "        instrumentalness  key  liveness  loudness  mode  popularity  \\\n",
       "120506          0.000000    2     0.157   -13.384     1          45   \n",
       "44830           0.700000    9     0.736   -13.243     1           0   \n",
       "168704          0.000003    1     0.160   -18.775     1          31   \n",
       "69701           0.000004    0     0.219   -11.738     1          41   \n",
       "15524           0.000000    7     0.336    -7.006     1          60   \n",
       "...                  ...  ...       ...       ...   ...         ...   \n",
       "73349           0.000000    0     0.963    -8.233     1          65   \n",
       "109259          0.757000    1     0.107    -4.491     1           0   \n",
       "50057           0.000000    2     0.614    -8.829     1          57   \n",
       "5192            0.000702    8     0.235   -11.443     1          10   \n",
       "128037          0.000360    0     0.105   -21.514     1           0   \n",
       "\n",
       "        speechiness    tempo  valence  year  \n",
       "120506       0.0306  105.451    0.664  1990  \n",
       "44830        0.0574  127.038    0.298  1952  \n",
       "168704       0.0391  135.056    0.172  1993  \n",
       "69701        0.0532   86.438    0.932  1986  \n",
       "15524        0.0408  140.664    0.852  1998  \n",
       "...             ...      ...      ...   ...  \n",
       "73349        0.0291  121.961    0.368  2004  \n",
       "109259       0.0506  147.006    0.848  2014  \n",
       "50057        0.0336  159.715    0.938  1979  \n",
       "5192         0.0348  108.368    0.468  1946  \n",
       "128037       0.9280   45.826    0.524  1945  \n",
       "\n",
       "[139511 rows x 15 columns]"
      ]
     },
     "execution_count": 121,
     "metadata": {},
     "output_type": "execute_result"
    }
   ],
   "source": [
    "X_train"
   ]
  },
  {
   "cell_type": "code",
   "execution_count": 117,
   "id": "found-ceiling",
   "metadata": {},
   "outputs": [
    {
     "data": {
      "text/plain": [
       "array([1, 0])"
      ]
     },
     "execution_count": 117,
     "metadata": {},
     "output_type": "execute_result"
    }
   ],
   "source": [
    "X_train[\"mode\"].unique()"
   ]
  },
  {
   "cell_type": "code",
   "execution_count": 98,
   "id": "fiscal-internet",
   "metadata": {},
   "outputs": [],
   "source": [
    "clf = mlflow.sklearn.load_model(\"mlruns/0/0f10aa9cdc2c476eab4796bbf5a50b62/artifacts/model/\")"
   ]
  },
  {
   "cell_type": "code",
   "execution_count": 104,
   "id": "posted-placement",
   "metadata": {},
   "outputs": [
    {
     "data": {
      "text/plain": [
       "MultiOutputClassifier(estimator=RandomForestClassifier(n_estimators=10),\n",
       "                      n_jobs=-1)"
      ]
     },
     "execution_count": 104,
     "metadata": {},
     "output_type": "execute_result"
    }
   ],
   "source": [
    "clf"
   ]
  },
  {
   "cell_type": "code",
   "execution_count": 106,
   "id": "collectible-hollow",
   "metadata": {},
   "outputs": [],
   "source": [
    "clf = mlflow.pyfunc.load_model(\"mlruns/0/0f10aa9cdc2c476eab4796bbf5a50b62/artifacts/model/\")"
   ]
  },
  {
   "cell_type": "code",
   "execution_count": 165,
   "id": "polyphonic-walter",
   "metadata": {},
   "outputs": [],
   "source": [
    "data_dict = {'acousticness': 0.909, 'danceability': 0.212, 'duration_ms': 70453, 'energy': 0.0473, 'explicit': 0, 'instrumentalness': 0.927, 'key': 5, 'liveness': 0.0958, 'loudness': -27.82800000000001, 'mode': 1, 'popularity': 0, 'speechiness': 0.04, 'tempo': 110.388, 'valence': 0.248, 'year': 1952}"
   ]
  },
  {
   "cell_type": "code",
   "execution_count": 166,
   "id": "stopped-poster",
   "metadata": {},
   "outputs": [],
   "source": [
    "data = pd.DataFrame(data_dict, index=[0])"
   ]
  },
  {
   "cell_type": "code",
   "execution_count": 177,
   "id": "continued-general",
   "metadata": {},
   "outputs": [],
   "source": [
    "preds = clf.predict(X_test)"
   ]
  },
  {
   "cell_type": "code",
   "execution_count": 194,
   "id": "collect-marriage",
   "metadata": {},
   "outputs": [],
   "source": [
    "preds[0][0] = 1"
   ]
  },
  {
   "cell_type": "code",
   "execution_count": 196,
   "id": "authorized-trustee",
   "metadata": {},
   "outputs": [
    {
     "data": {
      "text/plain": [
       "array([1, 0, 0, 0, 0, 0, 0, 0, 0, 0])"
      ]
     },
     "execution_count": 196,
     "metadata": {},
     "output_type": "execute_result"
    }
   ],
   "source": [
    "preds[0]"
   ]
  },
  {
   "cell_type": "code",
   "execution_count": 199,
   "id": "continental-canberra",
   "metadata": {},
   "outputs": [
    {
     "data": {
      "text/plain": [
       "Index(['Francisco Canaro', 'Tadeusz Dolega Mostowicz', 'Эрнест Хемингуэй',\n",
       "       'Эрих Мария Ремарк', 'Frédéric Chopin', 'Johann Sebastian Bach',\n",
       "       'Wolfgang Amadeus Mozart', 'Ludwig van Beethoven', 'Frank Sinatra',\n",
       "       'Wiener Philharmoniker'],\n",
       "      dtype='object')"
      ]
     },
     "execution_count": 199,
     "metadata": {},
     "output_type": "execute_result"
    }
   ],
   "source": [
    "y_test.columns"
   ]
  },
  {
   "cell_type": "code",
   "execution_count": null,
   "id": "grave-pottery",
   "metadata": {},
   "outputs": [],
   "source": [
    "X_test"
   ]
  }
 ],
 "metadata": {
  "kernelspec": {
   "display_name": "Python 3",
   "language": "python",
   "name": "python3"
  },
  "language_info": {
   "codemirror_mode": {
    "name": "ipython",
    "version": 3
   },
   "file_extension": ".py",
   "mimetype": "text/x-python",
   "name": "python",
   "nbconvert_exporter": "python",
   "pygments_lexer": "ipython3",
   "version": "3.7.10"
  }
 },
 "nbformat": 4,
 "nbformat_minor": 5
}
