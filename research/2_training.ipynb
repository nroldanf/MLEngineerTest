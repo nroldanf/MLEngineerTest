{
 "cells": [
  {
   "cell_type": "code",
   "execution_count": 3,
   "id": "contrary-title",
   "metadata": {},
   "outputs": [],
   "source": [
    "from xgboost import XGBClassifier\n",
    "import mlflow\n",
    "from sklearn.ensemble import RandomForestClassifier\n",
    "from sklearn.multioutput import MultiOutputClassifier\n",
    "from sklearn.model_selection import train_test_split\n",
    "from sklearn.preprocessing import StandardScaler\n",
    "from sklearn.utils import class_weight\n",
    "from sklearn.metrics import classification_report\n",
    "from sklearn.metrics import confusion_matrix"
   ]
  },
  {
   "cell_type": "code",
   "execution_count": 81,
   "id": "collectible-clearing",
   "metadata": {},
   "outputs": [],
   "source": [
    "def fetch_logged_data(run_id):\n",
    "    client = mlflow.tracking.MlflowClient()\n",
    "    data = client.get_run(run_id).data\n",
    "    tags = {k: v for k, v in data.tags.items() if not k.startswith(\"mlflow.\")}\n",
    "    artifacts = [f.path for f in client.list_artifacts(run_id, \"model\")]\n",
    "    return data.params, data.metrics, tags, artifacts"
   ]
  },
  {
   "cell_type": "code",
   "execution_count": 74,
   "id": "speaking-circumstances",
   "metadata": {},
   "outputs": [],
   "source": [
    "features = [\"acousticness\", \"danceability\", \"energy\", \"explicit\"]"
   ]
  },
  {
   "cell_type": "code",
   "execution_count": 82,
   "id": "centered-refund",
   "metadata": {},
   "outputs": [],
   "source": [
    "mlflow.sklearn.autolog()"
   ]
  },
  {
   "cell_type": "code",
   "execution_count": 83,
   "id": "middle-magic",
   "metadata": {},
   "outputs": [],
   "source": [
    "# Scale train and test data\n",
    "# X_train = scaler.transform(X_train)\n",
    "# X_test = scaler.transform(X_test)"
   ]
  },
  {
   "cell_type": "code",
   "execution_count": 84,
   "id": "hearing-singles",
   "metadata": {},
   "outputs": [],
   "source": [
    "forest isnullndomForestClassifier(n_estimators=10)\n",
    "multi_target_forest = MultiOutputClassifier(forest, n_jobs=-1)"
   ]
  },
  {
   "cell_type": "code",
   "execution_count": 85,
   "id": "advised-clarity",
   "metadata": {},
   "outputs": [
    {
     "name": "stderr",
     "output_type": "stream",
     "text": [
      "2021/03/11 19:04:39 WARNING mlflow.sklearn.utils: log_loss failed. The metric training_log_losswill not be recorded. Metric error: Found array with dim 3. Estimator expected <= 2.\n",
      "2021/03/11 19:04:39 WARNING mlflow.sklearn.utils: roc_auc_score failed. The metric training_roc_auc_scorewill not be recorded. Metric error: Found array with dim 3. Estimator expected <= 2.\n",
      "2021/03/11 19:04:39 WARNING mlflow.sklearn.utils: plot_confusion_matrix failed. The artifact training_confusion_matrix will not be recorded. Artifact error: multilabel-indicator is not supported\n",
      "2021/03/11 19:04:40 WARNING mlflow.utils.autologging_utils: MLflow issued a warning during sklearn autologging: \"/usr/local/lib/python3.7/site-packages/mlflow/models/signature.py:123: UserWarning: Hint: Inferred schema contains integer column(s). Integer columns in Python cannot represent missing values. If your input data contains missing values at inference time, it will be encoded as floats and will cause a schema enforcement error. The best way to avoid this problem is to infer the model schema based on a realistic data sample (training dataset) that includes missing values. Alternatively, you can declare integer columns as doubles (float64) whenever these columns may have missing values. See `Handling Integers With Missing Values <https://www.mlflow.org/docs/latest/models.html#handling-integers-with-missing-values>`_ for more details.\"\n"
     ]
    }
   ],
   "source": [
    "with mlflow.start_run() as run:\n",
    "    multi_target_forest.fit(X_train, y_train)"
   ]
  },
  {
   "cell_type": "code",
   "execution_count": 93,
   "id": "several-workstation",
   "metadata": {},
   "outputs": [],
   "source": [
    "params, metrics, tags, artifacts = fetch_logged_data(run.info.run_id)"
   ]
  },
  {
   "cell_type": "code",
   "execution_count": 94,
   "id": "adequate-privacy",
   "metadata": {},
   "outputs": [],
   "source": [
    "scoring = ['accuracy', 'precision_weighted', 'recall_weighted', 'f1_weighted', 'roc_auc']"
   ]
  },
  {
   "cell_type": "code",
   "execution_count": 95,
   "id": "typical-desktop",
   "metadata": {},
   "outputs": [],
   "source": [
    "target_names = df_target.columns.tolist()"
   ]
  },
  {
   "cell_type": "code",
   "execution_count": 96,
   "id": "earlier-beads",
   "metadata": {},
   "outputs": [
    {
     "name": "stderr",
     "output_type": "stream",
     "text": [
      "/usr/local/lib/python3.7/site-packages/sklearn/metrics/_classification.py:1245: UndefinedMetricWarning: Precision and F-score are ill-defined and being set to 0.0 in samples with no predicted labels. Use `zero_division` parameter to control this behavior.\n",
      "  _warn_prf(average, modifier, msg_start, len(result))\n",
      "/usr/local/lib/python3.7/site-packages/sklearn/metrics/_classification.py:1245: UndefinedMetricWarning: Recall and F-score are ill-defined and being set to 0.0 in samples with no true labels. Use `zero_division` parameter to control this behavior.\n",
      "  _warn_prf(average, modifier, msg_start, len(result))\n"
     ]
    }
   ],
   "source": [
    "y_pred = multi_target_forest.predict(X_test)\n",
    "report = classification_report(y_test, y_pred, target_names=target_names)"
   ]
  },
  {
   "cell_type": "code",
   "execution_count": 97,
   "id": "closed-creek",
   "metadata": {},
   "outputs": [
    {
     "name": "stdout",
     "output_type": "stream",
     "text": [
      "                          precision    recall  f1-score   support\n",
      "\n",
      "        Francisco Canaro       0.93      0.60      0.73       439\n",
      "Tadeusz Dolega Mostowicz       1.00      0.95      0.97       290\n",
      "        Эрнест Хемингуэй       1.00      0.98      0.99       249\n",
      "       Эрих Мария Ремарк       1.00      0.98      0.99       199\n",
      "         Frédéric Chopin       0.88      0.42      0.57       198\n",
      "   Johann Sebastian Bach       0.98      0.28      0.44       182\n",
      " Wolfgang Amadeus Mozart       0.85      0.06      0.11       185\n",
      "    Ludwig van Beethoven       0.76      0.09      0.17       171\n",
      "           Frank Sinatra       0.54      0.04      0.08       167\n",
      "   Wiener Philharmoniker       0.96      0.37      0.54       139\n",
      "\n",
      "               micro avg       0.96      0.54      0.69      2219\n",
      "               macro avg       0.89      0.48      0.56      2219\n",
      "            weighted avg       0.90      0.54      0.62      2219\n",
      "             samples avg       0.03      0.03      0.03      2219\n",
      "\n"
     ]
    }
   ],
   "source": [
    "print(report)"
   ]
  },
  {
   "cell_type": "code",
   "execution_count": 4,
   "id": "rolled-structure",
   "metadata": {},
   "outputs": [],
   "source": [
    "clf = mlflow.sklearn.load_model(\"mlruns/0/0f10aa9cdc2c476eab4796bbf5a50b62/artifacts/model/\")"
   ]
  },
  {
   "cell_type": "code",
   "execution_count": 5,
   "id": "mounted-transcription",
   "metadata": {},
   "outputs": [
    {
     "data": {
      "text/plain": [
       "MultiOutputClassifier(estimator=RandomForestClassifier(n_estimators=10),\n",
       "                      n_jobs=-1)"
      ]
     },
     "execution_count": 5,
     "metadata": {},
     "output_type": "execute_result"
    }
   ],
   "source": [
    "clf"
   ]
  },
  {
   "cell_type": "code",
   "execution_count": 8,
   "id": "lyric-sphere",
   "metadata": {},
   "outputs": [],
   "source": [
    "data_dict = {\"acousticness\": 0.909,\n",
    " \"danceability\": 0.212,\n",
    " \"duration_ms\": 70453,\n",
    " \"energy\": 0.0473,\n",
    " \"explicit\": 0,\n",
    " \"instrumentalness\": 0.927,\n",
    " \"key\": 5,\n",
    " \"liveness\": 0.0958,\n",
    " \"loudness\": -27.82800000000001,\n",
    " \"mode\": 1,\n",
    " \"popularity\": 0,\n",
    " \"speechiness\": 0.04,\n",
    " \"tempo\": 110.388,\n",
    " \"valence\": 0.248,\n",
    " \"year\": 1952}"
   ]
  },
  {
   "cell_type": "code",
   "execution_count": 16,
   "id": "square-playing",
   "metadata": {},
   "outputs": [],
   "source": [
    "import numpy as np"
   ]
  },
  {
   "cell_type": "code",
   "execution_count": 23,
   "id": "secure-botswana",
   "metadata": {},
   "outputs": [],
   "source": [
    "sample = np.array([i for i in data_dict.values()]).reshape(1, -1)"
   ]
  },
  {
   "cell_type": "code",
   "execution_count": 24,
   "id": "occupational-industry",
   "metadata": {},
   "outputs": [
    {
     "data": {
      "text/plain": [
       "array([[ 9.09000e-01,  2.12000e-01,  7.04530e+04,  4.73000e-02,\n",
       "         0.00000e+00,  9.27000e-01,  5.00000e+00,  9.58000e-02,\n",
       "        -2.78280e+01,  1.00000e+00,  0.00000e+00,  4.00000e-02,\n",
       "         1.10388e+02,  2.48000e-01,  1.95200e+03]])"
      ]
     },
     "execution_count": 24,
     "metadata": {},
     "output_type": "execute_result"
    }
   ],
   "source": [
    "sample"
   ]
  },
  {
   "cell_type": "code",
   "execution_count": 25,
   "id": "tracked-animal",
   "metadata": {},
   "outputs": [],
   "source": [
    "preds = clf.predict(sample)"
   ]
  },
  {
   "cell_type": "code",
   "execution_count": 194,
   "id": "jewish-nothing",
   "metadata": {},
   "outputs": [],
   "source": [
    "preds[0][0] = 1"
   ]
  },
  {
   "cell_type": "code",
   "execution_count": 196,
   "id": "medieval-vehicle",
   "metadata": {},
   "outputs": [
    {
     "data": {
      "text/plain": [
       "array([1, 0, 0, 0, 0, 0, 0, 0, 0, 0])"
      ]
     },
     "execution_count": 196,
     "metadata": {},
     "output_type": "execute_result"
    }
   ],
   "source": [
    "preds[0]"
   ]
  },
  {
   "cell_type": "code",
   "execution_count": 199,
   "id": "comfortable-living",
   "metadata": {},
   "outputs": [
    {
     "data": {
      "text/plain": [
       "Index(['Francisco Canaro', 'Tadeusz Dolega Mostowicz', 'Эрнест Хемингуэй',\n",
       "       'Эрих Мария Ремарк', 'Frédéric Chopin', 'Johann Sebastian Bach',\n",
       "       'Wolfgang Amadeus Mozart', 'Ludwig van Beethoven', 'Frank Sinatra',\n",
       "       'Wiener Philharmoniker'],\n",
       "      dtype='object')"
      ]
     },
     "execution_count": 199,
     "metadata": {},
     "output_type": "execute_result"
    }
   ],
   "source": [
    "y_test.columns"
   ]
  },
  {
   "cell_type": "code",
   "execution_count": null,
   "id": "increasing-visit",
   "metadata": {},
   "outputs": [],
   "source": [
    "X_test"
   ]
  }
 ],
 "metadata": {
  "kernelspec": {
   "display_name": "Python 3",
   "language": "python",
   "name": "python3"
  },
  "language_info": {
   "codemirror_mode": {
    "name": "ipython",
    "version": 3
   },
   "file_extension": ".py",
   "mimetype": "text/x-python",
   "name": "python",
   "nbconvert_exporter": "python",
   "pygments_lexer": "ipython3",
   "version": "3.7.10"
  }
 },
 "nbformat": 4,
 "nbformat_minor": 5
}
