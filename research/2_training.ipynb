{
 "cells": [
  {
   "cell_type": "code",
   "execution_count": 1,
   "id": "adverse-pleasure",
   "metadata": {},
   "outputs": [],
   "source": [
    "from xgboost import XGBClassifier\n",
    "import mlflow\n",
    "import ast\n",
    "import pandas as pd\n",
    "from sklearn.preprocessing import LabelEncoder, OneHotEncoder, MultiLabelBinarizer\n",
    "from sklearn.ensemble import RandomForestClassifier\n",
    "from sklearn.multioutput import MultiOutputClassifier\n",
    "from sklearn.model_selection import train_test_split\n",
    "from sklearn.preprocessing import StandardScaler\n",
    "from sklearn.utils import class_weight\n",
    "from sklearn.metrics import classification_report\n",
    "from sklearn.metrics import confusion_matrix"
   ]
  },
  {
   "cell_type": "code",
   "execution_count": 2,
   "id": "acquired-handle",
   "metadata": {},
   "outputs": [],
   "source": [
    "generic = lambda x: ast.literal_eval(x)\n",
    "conv = {'artists': generic}"
   ]
  },
  {
   "cell_type": "code",
   "execution_count": 3,
   "id": "unnecessary-bunch",
   "metadata": {},
   "outputs": [],
   "source": [
    "X_data = pd.read_csv(\"preprocessed/X_data.csv\")\n",
    "target = pd.read_csv(\"preprocessed/target.csv\", converters=conv)"
   ]
  },
  {
   "cell_type": "code",
   "execution_count": 4,
   "id": "forced-carol",
   "metadata": {},
   "outputs": [
    {
     "data": {
      "text/plain": [
       "((159068, 13), (159068, 1))"
      ]
     },
     "execution_count": 4,
     "metadata": {},
     "output_type": "execute_result"
    }
   ],
   "source": [
    "X_data.shape, target.shape"
   ]
  },
  {
   "cell_type": "code",
   "execution_count": 5,
   "id": "attached-questionnaire",
   "metadata": {},
   "outputs": [
    {
     "data": {
      "text/html": [
       "<div>\n",
       "<style scoped>\n",
       "    .dataframe tbody tr th:only-of-type {\n",
       "        vertical-align: middle;\n",
       "    }\n",
       "\n",
       "    .dataframe tbody tr th {\n",
       "        vertical-align: top;\n",
       "    }\n",
       "\n",
       "    .dataframe thead th {\n",
       "        text-align: right;\n",
       "    }\n",
       "</style>\n",
       "<table border=\"1\" class=\"dataframe\">\n",
       "  <thead>\n",
       "    <tr style=\"text-align: right;\">\n",
       "      <th></th>\n",
       "      <th>acousticness</th>\n",
       "      <th>danceability</th>\n",
       "      <th>duration_ms</th>\n",
       "      <th>instrumentalness</th>\n",
       "      <th>key</th>\n",
       "      <th>liveness</th>\n",
       "      <th>loudness</th>\n",
       "      <th>mode</th>\n",
       "      <th>popularity</th>\n",
       "      <th>speechiness</th>\n",
       "      <th>tempo</th>\n",
       "      <th>valence</th>\n",
       "      <th>year</th>\n",
       "    </tr>\n",
       "  </thead>\n",
       "  <tbody>\n",
       "    <tr>\n",
       "      <th>0</th>\n",
       "      <td>0.9760</td>\n",
       "      <td>0.261</td>\n",
       "      <td>203720</td>\n",
       "      <td>0.880000</td>\n",
       "      <td>0</td>\n",
       "      <td>0.1290</td>\n",
       "      <td>-33.903</td>\n",
       "      <td>1</td>\n",
       "      <td>12</td>\n",
       "      <td>0.0387</td>\n",
       "      <td>140.647</td>\n",
       "      <td>0.0878</td>\n",
       "      <td>1958</td>\n",
       "    </tr>\n",
       "    <tr>\n",
       "      <th>1</th>\n",
       "      <td>0.9910</td>\n",
       "      <td>0.251</td>\n",
       "      <td>126173</td>\n",
       "      <td>0.929000</td>\n",
       "      <td>1</td>\n",
       "      <td>0.2990</td>\n",
       "      <td>-24.261</td>\n",
       "      <td>1</td>\n",
       "      <td>2</td>\n",
       "      <td>0.0335</td>\n",
       "      <td>73.850</td>\n",
       "      <td>0.2290</td>\n",
       "      <td>1953</td>\n",
       "    </tr>\n",
       "    <tr>\n",
       "      <th>2</th>\n",
       "      <td>0.9630</td>\n",
       "      <td>0.265</td>\n",
       "      <td>737067</td>\n",
       "      <td>0.000073</td>\n",
       "      <td>1</td>\n",
       "      <td>0.1190</td>\n",
       "      <td>-17.544</td>\n",
       "      <td>1</td>\n",
       "      <td>0</td>\n",
       "      <td>0.0515</td>\n",
       "      <td>103.444</td>\n",
       "      <td>0.0476</td>\n",
       "      <td>1948</td>\n",
       "    </tr>\n",
       "    <tr>\n",
       "      <th>3</th>\n",
       "      <td>0.5970</td>\n",
       "      <td>0.714</td>\n",
       "      <td>281400</td>\n",
       "      <td>0.000012</td>\n",
       "      <td>2</td>\n",
       "      <td>0.0591</td>\n",
       "      <td>-9.912</td>\n",
       "      <td>1</td>\n",
       "      <td>54</td>\n",
       "      <td>0.0460</td>\n",
       "      <td>111.583</td>\n",
       "      <td>0.6720</td>\n",
       "      <td>1995</td>\n",
       "    </tr>\n",
       "    <tr>\n",
       "      <th>4</th>\n",
       "      <td>0.0757</td>\n",
       "      <td>0.185</td>\n",
       "      <td>222453</td>\n",
       "      <td>0.102000</td>\n",
       "      <td>9</td>\n",
       "      <td>0.2320</td>\n",
       "      <td>-6.791</td>\n",
       "      <td>1</td>\n",
       "      <td>31</td>\n",
       "      <td>0.0621</td>\n",
       "      <td>180.539</td>\n",
       "      <td>0.6440</td>\n",
       "      <td>1981</td>\n",
       "    </tr>\n",
       "  </tbody>\n",
       "</table>\n",
       "</div>"
      ],
      "text/plain": [
       "   acousticness  danceability  duration_ms  instrumentalness  key  liveness  \\\n",
       "0        0.9760         0.261       203720          0.880000    0    0.1290   \n",
       "1        0.9910         0.251       126173          0.929000    1    0.2990   \n",
       "2        0.9630         0.265       737067          0.000073    1    0.1190   \n",
       "3        0.5970         0.714       281400          0.000012    2    0.0591   \n",
       "4        0.0757         0.185       222453          0.102000    9    0.2320   \n",
       "\n",
       "   loudness  mode  popularity  speechiness    tempo  valence  year  \n",
       "0   -33.903     1          12       0.0387  140.647   0.0878  1958  \n",
       "1   -24.261     1           2       0.0335   73.850   0.2290  1953  \n",
       "2   -17.544     1           0       0.0515  103.444   0.0476  1948  \n",
       "3    -9.912     1          54       0.0460  111.583   0.6720  1995  \n",
       "4    -6.791     1          31       0.0621  180.539   0.6440  1981  "
      ]
     },
     "execution_count": 5,
     "metadata": {},
     "output_type": "execute_result"
    }
   ],
   "source": [
    "X_data.head()"
   ]
  },
  {
   "cell_type": "code",
   "execution_count": 6,
   "id": "express-amount",
   "metadata": {},
   "outputs": [
    {
     "data": {
      "text/html": [
       "<div>\n",
       "<style scoped>\n",
       "    .dataframe tbody tr th:only-of-type {\n",
       "        vertical-align: middle;\n",
       "    }\n",
       "\n",
       "    .dataframe tbody tr th {\n",
       "        vertical-align: top;\n",
       "    }\n",
       "\n",
       "    .dataframe thead th {\n",
       "        text-align: right;\n",
       "    }\n",
       "</style>\n",
       "<table border=\"1\" class=\"dataframe\">\n",
       "  <thead>\n",
       "    <tr style=\"text-align: right;\">\n",
       "      <th></th>\n",
       "      <th>artists</th>\n",
       "    </tr>\n",
       "  </thead>\n",
       "  <tbody>\n",
       "    <tr>\n",
       "      <th>0</th>\n",
       "      <td>[mamie smith]</td>\n",
       "    </tr>\n",
       "    <tr>\n",
       "      <th>1</th>\n",
       "      <td>[screamin' jay hawkins]</td>\n",
       "    </tr>\n",
       "    <tr>\n",
       "      <th>2</th>\n",
       "      <td>[mamie smith]</td>\n",
       "    </tr>\n",
       "    <tr>\n",
       "      <th>3</th>\n",
       "      <td>[oscar velazquez]</td>\n",
       "    </tr>\n",
       "    <tr>\n",
       "      <th>4</th>\n",
       "      <td>[mamie smith &amp; her jazz hounds]</td>\n",
       "    </tr>\n",
       "    <tr>\n",
       "      <th>...</th>\n",
       "      <td>...</td>\n",
       "    </tr>\n",
       "    <tr>\n",
       "      <th>159063</th>\n",
       "      <td>[dj combo, sander-7, tony t]</td>\n",
       "    </tr>\n",
       "    <tr>\n",
       "      <th>159064</th>\n",
       "      <td>[alessia cara]</td>\n",
       "    </tr>\n",
       "    <tr>\n",
       "      <th>159065</th>\n",
       "      <td>[roger fly]</td>\n",
       "    </tr>\n",
       "    <tr>\n",
       "      <th>159066</th>\n",
       "      <td>[taylor swift]</td>\n",
       "    </tr>\n",
       "    <tr>\n",
       "      <th>159067</th>\n",
       "      <td>[roger fly]</td>\n",
       "    </tr>\n",
       "  </tbody>\n",
       "</table>\n",
       "<p>159068 rows × 1 columns</p>\n",
       "</div>"
      ],
      "text/plain": [
       "                                artists\n",
       "0                         [mamie smith]\n",
       "1               [screamin' jay hawkins]\n",
       "2                         [mamie smith]\n",
       "3                     [oscar velazquez]\n",
       "4       [mamie smith & her jazz hounds]\n",
       "...                                 ...\n",
       "159063     [dj combo, sander-7, tony t]\n",
       "159064                   [alessia cara]\n",
       "159065                      [roger fly]\n",
       "159066                   [taylor swift]\n",
       "159067                      [roger fly]\n",
       "\n",
       "[159068 rows x 1 columns]"
      ]
     },
     "execution_count": 6,
     "metadata": {},
     "output_type": "execute_result"
    }
   ],
   "source": [
    "target"
   ]
  },
  {
   "cell_type": "markdown",
   "id": "racial-residence",
   "metadata": {},
   "source": [
    "The current danuniqueset is highly imbalanced given that most of the samples correspond to unique classes (over 48% percent). Furthermore, there are a high dimensionality having 32540 classes.\n",
    "Widely speaking there are 2 Multilabel classification methods:\n",
    "\n",
    "- __Algorithm adaptation methods__\n",
    "\n",
    "Modify the algorithm to build decision trees or the entropy definition to consider various classes.\n",
    "\n",
    "- __Problem transformation methods:__ Convert the problem into a combination of binary classification or multiclass classification problems.\n",
    "    - __Simple:__ Ignore classes by frequency in each sample (keep the class with higher frequency)    \n",
    "    - __Binary Relevance__: Divide the dataset into different datasets with each one containing the instances of one specific label. Train n_classes classifiers with these datasets and merge the prediction to get the final result. __Problem__: This will produce datasets with 1 sample, insufucient to train any supervised learning model.\n",
    "\n",
    "    - __Label Powerset__: Treats every combination in the dataset as a single class (resulting with more classes in this case). __Problem__: This is more prior to imbalance problems, the number of classes in this approach increase with respect to multilabel classes (artist)\n",
    "\n",
    "    - __Pruned set__: Solves imbalanced class distribution by pruning instances that have frequency less that specific threshold.\n"
   ]
  },
  {
   "cell_type": "markdown",
   "id": "atomic-torture",
   "metadata": {},
   "source": [
    "__Experiments__\n",
    "\n",
    "- Train as it is (don't remove any label)\n",
    "- Train using pruned set\n",
    "- Train using pruned set plus some imbalanced handling tecniques (undersampling high frequency classes and oversampling low frequency)\n",
    "\n",
    "__With all use:__\n",
    "\n",
    "- Random Forest\n",
    "- XGBoost\n",
    "- Feed Forward Neural Network (MLP)"
   ]
  },
  {
   "cell_type": "code",
   "execution_count": 7,
   "id": "utility-franklin",
   "metadata": {},
   "outputs": [],
   "source": [
    "def fetch_logged_data(run_id):\n",
    "    client = mlflow.tracking.MlflowClient()\n",
    "    data = client.get_run(run_id).data\n",
    "    tags = {k: v for k, v in data.tags.items() if not k.startswith(\"mlflow.\")}\n",
    "    artifacts = [f.path for f in client.list_artifacts(run_id, \"model\")]\n",
    "    return data.params, data.metrics, tags, artifacts"
   ]
  },
  {
   "cell_type": "code",
   "execution_count": 8,
   "id": "surprised-monkey",
   "metadata": {},
   "outputs": [],
   "source": [
    "mlflow.sklearn.autolog()"
   ]
  },
  {
   "cell_type": "code",
   "execution_count": 9,
   "id": "existing-devon",
   "metadata": {},
   "outputs": [],
   "source": [
    "X_train, X_test, y_train, y_test = train_test_split(X_data, target, test_size=0.2, random_state=42)"
   ]
  },
  {
   "cell_type": "code",
   "execution_count": 10,
   "id": "center-nepal",
   "metadata": {},
   "outputs": [
    {
     "data": {
      "text/plain": [
       "((127254, 13), (31814, 13))"
      ]
     },
     "execution_count": 10,
     "metadata": {},
     "output_type": "execute_result"
    }
   ],
   "source": [
    "X_train.shape, X_test.shape"
   ]
  },
  {
   "cell_type": "code",
   "execution_count": 11,
   "id": "fleet-petersburg",
   "metadata": {},
   "outputs": [],
   "source": [
    "forest = RandomForestClassifier(n_estimators=10)\n",
    "multi_target_forest = MultiOutputClassifier(forest, n_jobs=3)"
   ]
  },
  {
   "cell_type": "markdown",
   "id": "saved-shannon",
   "metadata": {},
   "source": [
    "### Multilabel binarize the target"
   ]
  },
  {
   "cell_type": "code",
   "execution_count": 12,
   "id": "everyday-green",
   "metadata": {},
   "outputs": [],
   "source": [
    "mlb = MultiLabelBinarizer()\n",
    "target_space_train = mlb.fit_transform(y_train[\"artists\"].to_list())\n",
    "target_space_test = mlb.fit_transform(y_test[\"artists\"].to_list())"
   ]
  },
  {
   "cell_type": "code",
   "execution_count": null,
   "id": "crucial-selling",
   "metadata": {},
   "outputs": [],
   "source": [
    "with mlflow.start_run() as run:\n",
    "    multi_target_forest.fit(X_train, target_space_train)"
   ]
  },
  {
   "cell_type": "code",
   "execution_count": 93,
   "id": "manual-portfolio",
   "metadata": {},
   "outputs": [],
   "source": [
    "params, metrics, tags, artifacts = fetch_logged_data(run.info.run_id)"
   ]
  },
  {
   "cell_type": "code",
   "execution_count": 94,
   "id": "swiss-gabriel",
   "metadata": {},
   "outputs": [],
   "source": [
    "scoring = ['accuracy', 'precision_weighted', 'recall_weighted', 'f1_weighted', 'roc_auc']"
   ]
  },
  {
   "cell_type": "code",
   "execution_count": 95,
   "id": "smart-norfolk",
   "metadata": {},
   "outputs": [],
   "source": [
    "target_names = df_target.columns.tolist()"
   ]
  },
  {
   "cell_type": "code",
   "execution_count": 96,
   "id": "unlikely-switzerland",
   "metadata": {},
   "outputs": [
    {
     "name": "stderr",
     "output_type": "stream",
     "text": [
      "/usr/local/lib/python3.7/site-packages/sklearn/metrics/_classification.py:1245: UndefinedMetricWarning: Precision and F-score are ill-defined and being set to 0.0 in samples with no predicted labels. Use `zero_division` parameter to control this behavior.\n",
      "  _warn_prf(average, modifier, msg_start, len(result))\n",
      "/usr/local/lib/python3.7/site-packages/sklearn/metrics/_classification.py:1245: UndefinedMetricWarning: Recall and F-score are ill-defined and being set to 0.0 in samples with no true labels. Use `zero_division` parameter to control this behavior.\n",
      "  _warn_prf(average, modifier, msg_start, len(result))\n"
     ]
    }
   ],
   "source": [
    "y_pred = multi_target_forest.predict(X_test)\n",
    "report = classification_report(y_test, y_pred, target_names=target_names)"
   ]
  },
  {
   "cell_type": "code",
   "execution_count": 97,
   "id": "composed-development",
   "metadata": {},
   "outputs": [
    {
     "name": "stdout",
     "output_type": "stream",
     "text": [
      "                          precision    recall  f1-score   support\n",
      "\n",
      "        Francisco Canaro       0.93      0.60      0.73       439\n",
      "Tadeusz Dolega Mostowicz       1.00      0.95      0.97       290\n",
      "        Эрнест Хемингуэй       1.00      0.98      0.99       249\n",
      "       Эрих Мария Ремарк       1.00      0.98      0.99       199\n",
      "         Frédéric Chopin       0.88      0.42      0.57       198\n",
      "   Johann Sebastian Bach       0.98      0.28      0.44       182\n",
      " Wolfgang Amadeus Mozart       0.85      0.06      0.11       185\n",
      "    Ludwig van Beethoven       0.76      0.09      0.17       171\n",
      "           Frank Sinatra       0.54      0.04      0.08       167\n",
      "   Wiener Philharmoniker       0.96      0.37      0.54       139\n",
      "\n",
      "               micro avg       0.96      0.54      0.69      2219\n",
      "               macro avg       0.89      0.48      0.56      2219\n",
      "            weighted avg       0.90      0.54      0.62      2219\n",
      "             samples avg       0.03      0.03      0.03      2219\n",
      "\n"
     ]
    }
   ],
   "source": [
    "print(report)"
   ]
  },
  {
   "cell_type": "code",
   "execution_count": 4,
   "id": "sapphire-pipeline",
   "metadata": {},
   "outputs": [],
   "source": [
    "clf = mlflow.sklearn.load_model(\"mlruns/0/0f10aa9cdc2c476eab4796bbf5a50b62/artifacts/model/\")"
   ]
  },
  {
   "cell_type": "code",
   "execution_count": 5,
   "id": "formed-oracle",
   "metadata": {},
   "outputs": [
    {
     "data": {
      "text/plain": [
       "MultiOutputClassifier(estimator=RandomForestClassifier(n_estimators=10),\n",
       "                      n_jobs=-1)"
      ]
     },
     "execution_count": 5,
     "metadata": {},
     "output_type": "execute_result"
    }
   ],
   "source": [
    "clf"
   ]
  },
  {
   "cell_type": "code",
   "execution_count": 8,
   "id": "fitting-pound",
   "metadata": {},
   "outputs": [],
   "source": [
    "data_dict = {\"acousticness\": 0.909,\n",
    " \"danceability\": 0.212,\n",
    " \"duration_ms\": 70453,\n",
    " \"energy\": 0.0473,\n",
    " \"explicit\": 0,\n",
    " \"instrumentalness\": 0.927,\n",
    " \"key\": 5,\n",
    " \"liveness\": 0.0958,\n",
    " \"loudness\": -27.82800000000001,\n",
    " \"mode\": 1,\n",
    " \"popularity\": 0,\n",
    " \"speechiness\": 0.04,\n",
    " \"tempo\": 110.388,\n",
    " \"valence\": 0.248,\n",
    " \"year\": 1952}"
   ]
  },
  {
   "cell_type": "code",
   "execution_count": 16,
   "id": "restricted-orange",
   "metadata": {},
   "outputs": [],
   "source": [
    "import numpy as np"
   ]
  },
  {
   "cell_type": "code",
   "execution_count": 23,
   "id": "sized-aberdeen",
   "metadata": {},
   "outputs": [],
   "source": [
    "sample = np.array([i for i in data_dict.values()]).reshape(1, -1)"
   ]
  },
  {
   "cell_type": "code",
   "execution_count": 24,
   "id": "analyzed-johnson",
   "metadata": {},
   "outputs": [
    {
     "data": {
      "text/plain": [
       "array([[ 9.09000e-01,  2.12000e-01,  7.04530e+04,  4.73000e-02,\n",
       "         0.00000e+00,  9.27000e-01,  5.00000e+00,  9.58000e-02,\n",
       "        -2.78280e+01,  1.00000e+00,  0.00000e+00,  4.00000e-02,\n",
       "         1.10388e+02,  2.48000e-01,  1.95200e+03]])"
      ]
     },
     "execution_count": 24,
     "metadata": {},
     "output_type": "execute_result"
    }
   ],
   "source": [
    "sample"
   ]
  },
  {
   "cell_type": "code",
   "execution_count": 25,
   "id": "interracial-hughes",
   "metadata": {},
   "outputs": [],
   "source": [
    "preds = clf.predict(sample)"
   ]
  },
  {
   "cell_type": "code",
   "execution_count": 194,
   "id": "improved-beginning",
   "metadata": {},
   "outputs": [],
   "source": [
    "preds[0][0] = 1"
   ]
  },
  {
   "cell_type": "code",
   "execution_count": 196,
   "id": "photographic-shanghai",
   "metadata": {},
   "outputs": [
    {
     "data": {
      "text/plain": [
       "array([1, 0, 0, 0, 0, 0, 0, 0, 0, 0])"
      ]
     },
     "execution_count": 196,
     "metadata": {},
     "output_type": "execute_result"
    }
   ],
   "source": [
    "preds[0]"
   ]
  },
  {
   "cell_type": "code",
   "execution_count": 199,
   "id": "aggressive-stone",
   "metadata": {},
   "outputs": [
    {
     "data": {
      "text/plain": [
       "Index(['Francisco Canaro', 'Tadeusz Dolega Mostowicz', 'Эрнест Хемингуэй',\n",
       "       'Эрих Мария Ремарк', 'Frédéric Chopin', 'Johann Sebastian Bach',\n",
       "       'Wolfgang Amadeus Mozart', 'Ludwig van Beethoven', 'Frank Sinatra',\n",
       "       'Wiener Philharmoniker'],\n",
       "      dtype='object')"
      ]
     },
     "execution_count": 199,
     "metadata": {},
     "output_type": "execute_result"
    }
   ],
   "source": [
    "y_test.columns"
   ]
  },
  {
   "cell_type": "code",
   "execution_count": null,
   "id": "entire-madison",
   "metadata": {},
   "outputs": [],
   "source": [
    "X_test"
   ]
  }
 ],
 "metadata": {
  "kernelspec": {
   "display_name": "Python 3",
   "language": "python",
   "name": "python3"
  },
  "language_info": {
   "codemirror_mode": {
    "name": "ipython",
    "version": 3
   },
   "file_extension": ".py",
   "mimetype": "text/x-python",
   "name": "python",
   "nbconvert_exporter": "python",
   "pygments_lexer": "ipython3",
   "version": "3.7.10"
  }
 },
 "nbformat": 4,
 "nbformat_minor": 5
}
